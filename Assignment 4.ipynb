{
  "cells": [
    {
      "cell_type": "markdown",
      "metadata": {
        "id": "gu3rWat9I9nE"
      },
      "source": [
        "---\n",
        "\n",
        "_You are currently looking at **version 1.1** of this notebook. To download notebooks and datafiles, as well as get help on Jupyter notebooks in the Coursera platform, visit the [Jupyter Notebook FAQ](https://www.coursera.org/learn/python-machine-learning/resources/bANLa) course resource._\n",
        "\n",
        "---"
      ]
    },
    {
      "cell_type": "markdown",
      "metadata": {
        "id": "bc7DRYsaI9nJ"
      },
      "source": [
        "## Assignment 4 - Understanding and Predicting Property Maintenance Fines\n",
        "\n",
        "This assignment is based on a data challenge from the Michigan Data Science Team ([MDST](http://midas.umich.edu/mdst/)). \n",
        "\n",
        "The Michigan Data Science Team ([MDST](http://midas.umich.edu/mdst/)) and the Michigan Student Symposium for Interdisciplinary Statistical Sciences ([MSSISS](https://sites.lsa.umich.edu/mssiss/)) have partnered with the City of Detroit to help solve one of the most pressing problems facing Detroit - blight. [Blight violations](http://www.detroitmi.gov/How-Do-I/Report/Blight-Complaint-FAQs) are issued by the city to individuals who allow their properties to remain in a deteriorated condition. Every year, the city of Detroit issues millions of dollars in fines to residents and every year, many of these fines remain unpaid. Enforcing unpaid blight fines is a costly and tedious process, so the city wants to know: how can we increase blight ticket compliance?\n",
        "\n",
        "The first step in answering this question is understanding when and why a resident might fail to comply with a blight ticket. This is where predictive modeling comes in. For this assignment, your task is to predict whether a given blight ticket will be paid on time.\n",
        "\n",
        "All data for this assignment has been provided to us through the [Detroit Open Data Portal](https://data.detroitmi.gov/). **Only the data already included in your Coursera directory can be used for training the model for this assignment.** Nonetheless, we encourage you to look into data from other Detroit datasets to help inform feature creation and model selection. We recommend taking a look at the following related datasets:\n",
        "\n",
        "* [Building Permits](https://data.detroitmi.gov/Property-Parcels/Building-Permits/xw2a-a7tf)\n",
        "* [Trades Permits](https://data.detroitmi.gov/Property-Parcels/Trades-Permits/635b-dsgv)\n",
        "* [Improve Detroit: Submitted Issues](https://data.detroitmi.gov/Government/Improve-Detroit-Submitted-Issues/fwz3-w3yn)\n",
        "* [DPD: Citizen Complaints](https://data.detroitmi.gov/Public-Safety/DPD-Citizen-Complaints-2016/kahe-efs3)\n",
        "* [Parcel Map](https://data.detroitmi.gov/Property-Parcels/Parcel-Map/fxkw-udwf)\n",
        "\n",
        "___\n",
        "\n",
        "We provide you with two data files for use in training and validating your models: train.csv and test.csv. Each row in these two files corresponds to a single blight ticket, and includes information about when, why, and to whom each ticket was issued. The target variable is compliance, which is True if the ticket was paid early, on time, or within one month of the hearing data, False if the ticket was paid after the hearing date or not at all, and Null if the violator was found not responsible. Compliance, as well as a handful of other variables that will not be available at test-time, are only included in train.csv.\n",
        "\n",
        "Note: All tickets where the violators were found not responsible are not considered during evaluation. They are included in the training set as an additional source of data for visualization, and to enable unsupervised and semi-supervised approaches. However, they are not included in the test set.\n",
        "\n",
        "<br>\n",
        "\n",
        "**File descriptions** (Use only this data for training your model!)\n",
        "\n",
        "    readonly/train.csv - the training set (all tickets issued 2004-2011)\n",
        "    readonly/test.csv - the test set (all tickets issued 2012-2016)\n",
        "    readonly/addresses.csv & readonly/latlons.csv - mapping from ticket id to addresses, and from addresses to lat/lon coordinates. \n",
        "     Note: misspelled addresses may be incorrectly geolocated.\n",
        "\n",
        "<br>\n",
        "\n",
        "**Data fields**\n",
        "\n",
        "train.csv & test.csv\n",
        "\n",
        "    ticket_id - unique identifier for tickets\n",
        "    agency_name - Agency that issued the ticket\n",
        "    inspector_name - Name of inspector that issued the ticket\n",
        "    violator_name - Name of the person/organization that the ticket was issued to\n",
        "    violation_street_number, violation_street_name, violation_zip_code - Address where the violation occurred\n",
        "    mailing_address_str_number, mailing_address_str_name, city, state, zip_code, non_us_str_code, country - Mailing address of the violator\n",
        "    ticket_issued_date - Date and time the ticket was issued\n",
        "    hearing_date - Date and time the violator's hearing was scheduled\n",
        "    violation_code, violation_description - Type of violation\n",
        "    disposition - Judgment and judgement type\n",
        "    fine_amount - Violation fine amount, excluding fees\n",
        "    admin_fee - $20 fee assigned to responsible judgments\n",
        "state_fee - $10 fee assigned to responsible judgments\n",
        "    late_fee - 10% fee assigned to responsible judgments\n",
        "    discount_amount - discount applied, if any\n",
        "    clean_up_cost - DPW clean-up or graffiti removal cost\n",
        "    judgment_amount - Sum of all fines and fees\n",
        "    grafitti_status - Flag for graffiti violations\n",
        "    \n",
        "train.csv only\n",
        "\n",
        "    payment_amount - Amount paid, if any\n",
        "    payment_date - Date payment was made, if it was received\n",
        "    payment_status - Current payment status as of Feb 1 2017\n",
        "    balance_due - Fines and fees still owed\n",
        "    collection_status - Flag for payments in collections\n",
        "    compliance [target variable for prediction] \n",
        "     Null = Not responsible\n",
        "     0 = Responsible, non-compliant\n",
        "     1 = Responsible, compliant\n",
        "    compliance_detail - More information on why each ticket was marked compliant or non-compliant\n",
        "\n",
        "\n",
        "___\n",
        "\n",
        "## Evaluation\n",
        "\n",
        "Your predictions will be given as the probability that the corresponding blight ticket will be paid on time.\n",
        "\n",
        "The evaluation metric for this assignment is the Area Under the ROC Curve (AUC). \n",
        "\n",
        "Your grade will be based on the AUC score computed for your classifier. A model which with an AUROC of 0.7 passes this assignment, over 0.75 will recieve full points.\n",
        "___\n",
        "\n",
        "For this assignment, create a function that trains a model to predict blight ticket compliance in Detroit using `readonly/train.csv`. Using this model, return a series of length 61001 with the data being the probability that each corresponding ticket from `readonly/test.csv` will be paid, and the index being the ticket_id.\n",
        "\n",
        "Example:\n",
        "\n",
        "    ticket_id\n",
        "       284932    0.531842\n",
        "       285362    0.401958\n",
        "       285361    0.105928\n",
        "       285338    0.018572\n",
        "                 ...\n",
        "       376499    0.208567\n",
        "       376500    0.818759\n",
        "       369851    0.018528\n",
        "       Name: compliance, dtype: float32\n",
        "       \n",
        "### Hints\n",
        "\n",
        "* Make sure your code is working before submitting it to the autograder.\n",
        "\n",
        "* Print out your result to see whether there is anything weird (e.g., all probabilities are the same).\n",
        "\n",
        "* Generally the total runtime should be less than 10 mins. You should NOT use Neural Network related classifiers (e.g., MLPClassifier) in this question. \n",
        "\n",
        "* Try to avoid global variables. If you have other functions besides blight_model, you should move those functions inside the scope of blight_model.\n",
        "\n",
        "* Refer to the pinned threads in Week 4's discussion forum when there is something you could not figure it out."
      ]
    },
    {
      "cell_type": "markdown",
      "source": [
        "# Load Data"
      ],
      "metadata": {
        "id": "PkM3wpb5p6-K"
      }
    },
    {
      "cell_type": "code",
      "source": [
        "import plotly.graph_objects as go"
      ],
      "metadata": {
        "id": "Tyg-zwrNrCG6"
      },
      "execution_count": 1,
      "outputs": []
    },
    {
      "cell_type": "code",
      "source": [
        "import pandas as pd\n",
        "import matplotlib.pyplot as plt\n",
        "import numpy as np\n",
        "\n",
        "df = pd.read_csv('https://raw.githubusercontent.com/linahourieh/Michigan-Track/main/train.csv',encoding='cp1252')\n",
        "df_test = pd.read_csv('https://raw.githubusercontent.com/linahourieh/Michigan-Track/main/datasets/test.csv')\n",
        "#df_address = pd.read_csv('/content/addresses.csv',encoding='cp1252')\n",
        "df_latlons = pd.read_csv('https://raw.githubusercontent.com/linahourieh/Michigan-Track/main/datasets/latlons.csv')\n"
      ],
      "metadata": {
        "colab": {
          "base_uri": "https://localhost:8080/"
        },
        "id": "GA46L7ggNDD6",
        "outputId": "fc9891c3-49c9-4989-b4b8-db49c8a2f77c"
      },
      "execution_count": 59,
      "outputs": [
        {
          "output_type": "stream",
          "name": "stderr",
          "text": [
            "/usr/local/lib/python3.7/dist-packages/IPython/core/interactiveshell.py:2882: DtypeWarning: Columns (11,12,31) have mixed types.Specify dtype option on import or set low_memory=False.\n",
            "  exec(code_obj, self.user_global_ns, self.user_ns)\n"
          ]
        }
      ]
    },
    {
      "cell_type": "code",
      "source": [
        "df.head(3)"
      ],
      "metadata": {
        "colab": {
          "base_uri": "https://localhost:8080/",
          "height": 445
        },
        "id": "X5uaabvLQjMw",
        "outputId": "79f819fe-c68e-473a-c86c-47878457fb97"
      },
      "execution_count": 3,
      "outputs": [
        {
          "output_type": "execute_result",
          "data": {
            "text/html": [
              "\n",
              "  <div id=\"df-26235e97-54ce-4e57-aff3-a97e39b1503e\">\n",
              "    <div class=\"colab-df-container\">\n",
              "      <div>\n",
              "<style scoped>\n",
              "    .dataframe tbody tr th:only-of-type {\n",
              "        vertical-align: middle;\n",
              "    }\n",
              "\n",
              "    .dataframe tbody tr th {\n",
              "        vertical-align: top;\n",
              "    }\n",
              "\n",
              "    .dataframe thead th {\n",
              "        text-align: right;\n",
              "    }\n",
              "</style>\n",
              "<table border=\"1\" class=\"dataframe\">\n",
              "  <thead>\n",
              "    <tr style=\"text-align: right;\">\n",
              "      <th></th>\n",
              "      <th>ticket_id</th>\n",
              "      <th>agency_name</th>\n",
              "      <th>inspector_name</th>\n",
              "      <th>violator_name</th>\n",
              "      <th>violation_street_number</th>\n",
              "      <th>violation_street_name</th>\n",
              "      <th>violation_zip_code</th>\n",
              "      <th>mailing_address_str_number</th>\n",
              "      <th>mailing_address_str_name</th>\n",
              "      <th>city</th>\n",
              "      <th>...</th>\n",
              "      <th>clean_up_cost</th>\n",
              "      <th>judgment_amount</th>\n",
              "      <th>payment_amount</th>\n",
              "      <th>balance_due</th>\n",
              "      <th>payment_date</th>\n",
              "      <th>payment_status</th>\n",
              "      <th>collection_status</th>\n",
              "      <th>grafitti_status</th>\n",
              "      <th>compliance_detail</th>\n",
              "      <th>compliance</th>\n",
              "    </tr>\n",
              "  </thead>\n",
              "  <tbody>\n",
              "    <tr>\n",
              "      <th>0</th>\n",
              "      <td>22056</td>\n",
              "      <td>Buildings, Safety Engineering &amp; Env Department</td>\n",
              "      <td>Sims, Martinzie</td>\n",
              "      <td>INVESTMENT INC., MIDWEST MORTGAGE</td>\n",
              "      <td>2900.0</td>\n",
              "      <td>TYLER</td>\n",
              "      <td>NaN</td>\n",
              "      <td>3.0</td>\n",
              "      <td>S. WICKER</td>\n",
              "      <td>CHICAGO</td>\n",
              "      <td>...</td>\n",
              "      <td>0.0</td>\n",
              "      <td>305.0</td>\n",
              "      <td>0.0</td>\n",
              "      <td>305.0</td>\n",
              "      <td>NaN</td>\n",
              "      <td>NO PAYMENT APPLIED</td>\n",
              "      <td>NaN</td>\n",
              "      <td>NaN</td>\n",
              "      <td>non-compliant by no payment</td>\n",
              "      <td>0.0</td>\n",
              "    </tr>\n",
              "    <tr>\n",
              "      <th>1</th>\n",
              "      <td>27586</td>\n",
              "      <td>Buildings, Safety Engineering &amp; Env Department</td>\n",
              "      <td>Williams, Darrin</td>\n",
              "      <td>Michigan, Covenant House</td>\n",
              "      <td>4311.0</td>\n",
              "      <td>CENTRAL</td>\n",
              "      <td>NaN</td>\n",
              "      <td>2959.0</td>\n",
              "      <td>Martin Luther King</td>\n",
              "      <td>Detroit</td>\n",
              "      <td>...</td>\n",
              "      <td>0.0</td>\n",
              "      <td>855.0</td>\n",
              "      <td>780.0</td>\n",
              "      <td>75.0</td>\n",
              "      <td>2005-06-02 00:00:00</td>\n",
              "      <td>PAID IN FULL</td>\n",
              "      <td>NaN</td>\n",
              "      <td>NaN</td>\n",
              "      <td>compliant by late payment within 1 month</td>\n",
              "      <td>1.0</td>\n",
              "    </tr>\n",
              "    <tr>\n",
              "      <th>2</th>\n",
              "      <td>22062</td>\n",
              "      <td>Buildings, Safety Engineering &amp; Env Department</td>\n",
              "      <td>Sims, Martinzie</td>\n",
              "      <td>SANDERS, DERRON</td>\n",
              "      <td>1449.0</td>\n",
              "      <td>LONGFELLOW</td>\n",
              "      <td>NaN</td>\n",
              "      <td>23658.0</td>\n",
              "      <td>P.O. BOX</td>\n",
              "      <td>DETROIT</td>\n",
              "      <td>...</td>\n",
              "      <td>0.0</td>\n",
              "      <td>0.0</td>\n",
              "      <td>0.0</td>\n",
              "      <td>0.0</td>\n",
              "      <td>NaN</td>\n",
              "      <td>NO PAYMENT APPLIED</td>\n",
              "      <td>NaN</td>\n",
              "      <td>NaN</td>\n",
              "      <td>not responsible by disposition</td>\n",
              "      <td>NaN</td>\n",
              "    </tr>\n",
              "  </tbody>\n",
              "</table>\n",
              "<p>3 rows × 34 columns</p>\n",
              "</div>\n",
              "      <button class=\"colab-df-convert\" onclick=\"convertToInteractive('df-26235e97-54ce-4e57-aff3-a97e39b1503e')\"\n",
              "              title=\"Convert this dataframe to an interactive table.\"\n",
              "              style=\"display:none;\">\n",
              "        \n",
              "  <svg xmlns=\"http://www.w3.org/2000/svg\" height=\"24px\"viewBox=\"0 0 24 24\"\n",
              "       width=\"24px\">\n",
              "    <path d=\"M0 0h24v24H0V0z\" fill=\"none\"/>\n",
              "    <path d=\"M18.56 5.44l.94 2.06.94-2.06 2.06-.94-2.06-.94-.94-2.06-.94 2.06-2.06.94zm-11 1L8.5 8.5l.94-2.06 2.06-.94-2.06-.94L8.5 2.5l-.94 2.06-2.06.94zm10 10l.94 2.06.94-2.06 2.06-.94-2.06-.94-.94-2.06-.94 2.06-2.06.94z\"/><path d=\"M17.41 7.96l-1.37-1.37c-.4-.4-.92-.59-1.43-.59-.52 0-1.04.2-1.43.59L10.3 9.45l-7.72 7.72c-.78.78-.78 2.05 0 2.83L4 21.41c.39.39.9.59 1.41.59.51 0 1.02-.2 1.41-.59l7.78-7.78 2.81-2.81c.8-.78.8-2.07 0-2.86zM5.41 20L4 18.59l7.72-7.72 1.47 1.35L5.41 20z\"/>\n",
              "  </svg>\n",
              "      </button>\n",
              "      \n",
              "  <style>\n",
              "    .colab-df-container {\n",
              "      display:flex;\n",
              "      flex-wrap:wrap;\n",
              "      gap: 12px;\n",
              "    }\n",
              "\n",
              "    .colab-df-convert {\n",
              "      background-color: #E8F0FE;\n",
              "      border: none;\n",
              "      border-radius: 50%;\n",
              "      cursor: pointer;\n",
              "      display: none;\n",
              "      fill: #1967D2;\n",
              "      height: 32px;\n",
              "      padding: 0 0 0 0;\n",
              "      width: 32px;\n",
              "    }\n",
              "\n",
              "    .colab-df-convert:hover {\n",
              "      background-color: #E2EBFA;\n",
              "      box-shadow: 0px 1px 2px rgba(60, 64, 67, 0.3), 0px 1px 3px 1px rgba(60, 64, 67, 0.15);\n",
              "      fill: #174EA6;\n",
              "    }\n",
              "\n",
              "    [theme=dark] .colab-df-convert {\n",
              "      background-color: #3B4455;\n",
              "      fill: #D2E3FC;\n",
              "    }\n",
              "\n",
              "    [theme=dark] .colab-df-convert:hover {\n",
              "      background-color: #434B5C;\n",
              "      box-shadow: 0px 1px 3px 1px rgba(0, 0, 0, 0.15);\n",
              "      filter: drop-shadow(0px 1px 2px rgba(0, 0, 0, 0.3));\n",
              "      fill: #FFFFFF;\n",
              "    }\n",
              "  </style>\n",
              "\n",
              "      <script>\n",
              "        const buttonEl =\n",
              "          document.querySelector('#df-26235e97-54ce-4e57-aff3-a97e39b1503e button.colab-df-convert');\n",
              "        buttonEl.style.display =\n",
              "          google.colab.kernel.accessAllowed ? 'block' : 'none';\n",
              "\n",
              "        async function convertToInteractive(key) {\n",
              "          const element = document.querySelector('#df-26235e97-54ce-4e57-aff3-a97e39b1503e');\n",
              "          const dataTable =\n",
              "            await google.colab.kernel.invokeFunction('convertToInteractive',\n",
              "                                                     [key], {});\n",
              "          if (!dataTable) return;\n",
              "\n",
              "          const docLinkHtml = 'Like what you see? Visit the ' +\n",
              "            '<a target=\"_blank\" href=https://colab.research.google.com/notebooks/data_table.ipynb>data table notebook</a>'\n",
              "            + ' to learn more about interactive tables.';\n",
              "          element.innerHTML = '';\n",
              "          dataTable['output_type'] = 'display_data';\n",
              "          await google.colab.output.renderOutput(dataTable, element);\n",
              "          const docLink = document.createElement('div');\n",
              "          docLink.innerHTML = docLinkHtml;\n",
              "          element.appendChild(docLink);\n",
              "        }\n",
              "      </script>\n",
              "    </div>\n",
              "  </div>\n",
              "  "
            ],
            "text/plain": [
              "   ticket_id                                     agency_name  \\\n",
              "0      22056  Buildings, Safety Engineering & Env Department   \n",
              "1      27586  Buildings, Safety Engineering & Env Department   \n",
              "2      22062  Buildings, Safety Engineering & Env Department   \n",
              "\n",
              "     inspector_name                      violator_name  \\\n",
              "0   Sims, Martinzie  INVESTMENT INC., MIDWEST MORTGAGE   \n",
              "1  Williams, Darrin           Michigan, Covenant House   \n",
              "2   Sims, Martinzie                    SANDERS, DERRON   \n",
              "\n",
              "   violation_street_number violation_street_name  violation_zip_code  \\\n",
              "0                   2900.0                 TYLER                 NaN   \n",
              "1                   4311.0               CENTRAL                 NaN   \n",
              "2                   1449.0            LONGFELLOW                 NaN   \n",
              "\n",
              "   mailing_address_str_number mailing_address_str_name     city  ...  \\\n",
              "0                         3.0                S. WICKER  CHICAGO  ...   \n",
              "1                      2959.0       Martin Luther King  Detroit  ...   \n",
              "2                     23658.0                 P.O. BOX  DETROIT  ...   \n",
              "\n",
              "  clean_up_cost judgment_amount payment_amount balance_due  \\\n",
              "0           0.0           305.0            0.0       305.0   \n",
              "1           0.0           855.0          780.0        75.0   \n",
              "2           0.0             0.0            0.0         0.0   \n",
              "\n",
              "          payment_date      payment_status collection_status grafitti_status  \\\n",
              "0                  NaN  NO PAYMENT APPLIED               NaN             NaN   \n",
              "1  2005-06-02 00:00:00        PAID IN FULL               NaN             NaN   \n",
              "2                  NaN  NO PAYMENT APPLIED               NaN             NaN   \n",
              "\n",
              "                          compliance_detail  compliance  \n",
              "0               non-compliant by no payment         0.0  \n",
              "1  compliant by late payment within 1 month         1.0  \n",
              "2            not responsible by disposition         NaN  \n",
              "\n",
              "[3 rows x 34 columns]"
            ]
          },
          "metadata": {},
          "execution_count": 3
        }
      ]
    },
    {
      "cell_type": "code",
      "source": [
        "df.shape"
      ],
      "metadata": {
        "colab": {
          "base_uri": "https://localhost:8080/"
        },
        "id": "uMkh5Y6ig-Z2",
        "outputId": "c8fe2328-dbdd-49d6-a4e7-38cd2ed8d1e0"
      },
      "execution_count": 4,
      "outputs": [
        {
          "output_type": "execute_result",
          "data": {
            "text/plain": [
              "(250306, 34)"
            ]
          },
          "metadata": {},
          "execution_count": 4
        }
      ]
    },
    {
      "cell_type": "code",
      "source": [
        "df.info()"
      ],
      "metadata": {
        "colab": {
          "base_uri": "https://localhost:8080/"
        },
        "id": "4v58xkXfRgRT",
        "outputId": "ff0d5ea4-fd5e-4547-d6b8-f487fe6775aa"
      },
      "execution_count": 5,
      "outputs": [
        {
          "output_type": "stream",
          "name": "stdout",
          "text": [
            "<class 'pandas.core.frame.DataFrame'>\n",
            "RangeIndex: 250306 entries, 0 to 250305\n",
            "Data columns (total 34 columns):\n",
            " #   Column                      Non-Null Count   Dtype  \n",
            "---  ------                      --------------   -----  \n",
            " 0   ticket_id                   250306 non-null  int64  \n",
            " 1   agency_name                 250306 non-null  object \n",
            " 2   inspector_name              250306 non-null  object \n",
            " 3   violator_name               250272 non-null  object \n",
            " 4   violation_street_number     250306 non-null  float64\n",
            " 5   violation_street_name       250306 non-null  object \n",
            " 6   violation_zip_code          0 non-null       float64\n",
            " 7   mailing_address_str_number  246704 non-null  float64\n",
            " 8   mailing_address_str_name    250302 non-null  object \n",
            " 9   city                        250306 non-null  object \n",
            " 10  state                       250213 non-null  object \n",
            " 11  zip_code                    250305 non-null  object \n",
            " 12  non_us_str_code             3 non-null       object \n",
            " 13  country                     250306 non-null  object \n",
            " 14  ticket_issued_date          250306 non-null  object \n",
            " 15  hearing_date                237815 non-null  object \n",
            " 16  violation_code              250306 non-null  object \n",
            " 17  violation_description       250306 non-null  object \n",
            " 18  disposition                 250306 non-null  object \n",
            " 19  fine_amount                 250305 non-null  float64\n",
            " 20  admin_fee                   250306 non-null  float64\n",
            " 21  state_fee                   250306 non-null  float64\n",
            " 22  late_fee                    250306 non-null  float64\n",
            " 23  discount_amount             250306 non-null  float64\n",
            " 24  clean_up_cost               250306 non-null  float64\n",
            " 25  judgment_amount             250306 non-null  float64\n",
            " 26  payment_amount              250306 non-null  float64\n",
            " 27  balance_due                 250306 non-null  float64\n",
            " 28  payment_date                41113 non-null   object \n",
            " 29  payment_status              250306 non-null  object \n",
            " 30  collection_status           36897 non-null   object \n",
            " 31  grafitti_status             1 non-null       object \n",
            " 32  compliance_detail           250306 non-null  object \n",
            " 33  compliance                  159880 non-null  float64\n",
            "dtypes: float64(13), int64(1), object(20)\n",
            "memory usage: 64.9+ MB\n"
          ]
        }
      ]
    },
    {
      "cell_type": "code",
      "source": [
        "df['compliance'].value_counts(dropna=False)"
      ],
      "metadata": {
        "colab": {
          "base_uri": "https://localhost:8080/"
        },
        "id": "xe6FedtIUMvj",
        "outputId": "8846332f-a9e1-4bea-9a42-1f89729ab6ac"
      },
      "execution_count": 6,
      "outputs": [
        {
          "output_type": "execute_result",
          "data": {
            "text/plain": [
              "0.0    148283\n",
              "NaN     90426\n",
              "1.0     11597\n",
              "Name: compliance, dtype: int64"
            ]
          },
          "metadata": {},
          "execution_count": 6
        }
      ]
    },
    {
      "cell_type": "code",
      "source": [
        "df_des = df.describe()\n",
        "df_des"
      ],
      "metadata": {
        "colab": {
          "base_uri": "https://localhost:8080/",
          "height": 364
        },
        "id": "CIfuJe3VQI_D",
        "outputId": "8e41e0fb-b780-4fde-a5bf-5f7fdaaf6c31"
      },
      "execution_count": 7,
      "outputs": [
        {
          "output_type": "execute_result",
          "data": {
            "text/html": [
              "\n",
              "  <div id=\"df-054a0135-9864-4b9d-9750-93bc15734a67\">\n",
              "    <div class=\"colab-df-container\">\n",
              "      <div>\n",
              "<style scoped>\n",
              "    .dataframe tbody tr th:only-of-type {\n",
              "        vertical-align: middle;\n",
              "    }\n",
              "\n",
              "    .dataframe tbody tr th {\n",
              "        vertical-align: top;\n",
              "    }\n",
              "\n",
              "    .dataframe thead th {\n",
              "        text-align: right;\n",
              "    }\n",
              "</style>\n",
              "<table border=\"1\" class=\"dataframe\">\n",
              "  <thead>\n",
              "    <tr style=\"text-align: right;\">\n",
              "      <th></th>\n",
              "      <th>ticket_id</th>\n",
              "      <th>violation_street_number</th>\n",
              "      <th>violation_zip_code</th>\n",
              "      <th>mailing_address_str_number</th>\n",
              "      <th>fine_amount</th>\n",
              "      <th>admin_fee</th>\n",
              "      <th>state_fee</th>\n",
              "      <th>late_fee</th>\n",
              "      <th>discount_amount</th>\n",
              "      <th>clean_up_cost</th>\n",
              "      <th>judgment_amount</th>\n",
              "      <th>payment_amount</th>\n",
              "      <th>balance_due</th>\n",
              "      <th>compliance</th>\n",
              "    </tr>\n",
              "  </thead>\n",
              "  <tbody>\n",
              "    <tr>\n",
              "      <th>count</th>\n",
              "      <td>250306.000000</td>\n",
              "      <td>2.503060e+05</td>\n",
              "      <td>0.0</td>\n",
              "      <td>2.467040e+05</td>\n",
              "      <td>250305.000000</td>\n",
              "      <td>250306.000000</td>\n",
              "      <td>250306.000000</td>\n",
              "      <td>250306.000000</td>\n",
              "      <td>250306.000000</td>\n",
              "      <td>250306.0</td>\n",
              "      <td>250306.000000</td>\n",
              "      <td>250306.000000</td>\n",
              "      <td>250306.000000</td>\n",
              "      <td>159880.000000</td>\n",
              "    </tr>\n",
              "    <tr>\n",
              "      <th>mean</th>\n",
              "      <td>152665.543099</td>\n",
              "      <td>1.064986e+04</td>\n",
              "      <td>NaN</td>\n",
              "      <td>9.149788e+03</td>\n",
              "      <td>374.423435</td>\n",
              "      <td>12.774764</td>\n",
              "      <td>6.387382</td>\n",
              "      <td>21.494506</td>\n",
              "      <td>0.125167</td>\n",
              "      <td>0.0</td>\n",
              "      <td>268.685356</td>\n",
              "      <td>48.898986</td>\n",
              "      <td>222.449058</td>\n",
              "      <td>0.072536</td>\n",
              "    </tr>\n",
              "    <tr>\n",
              "      <th>std</th>\n",
              "      <td>77189.882881</td>\n",
              "      <td>3.188733e+04</td>\n",
              "      <td>NaN</td>\n",
              "      <td>3.602034e+04</td>\n",
              "      <td>707.195807</td>\n",
              "      <td>9.607344</td>\n",
              "      <td>4.803672</td>\n",
              "      <td>56.464263</td>\n",
              "      <td>3.430178</td>\n",
              "      <td>0.0</td>\n",
              "      <td>626.915212</td>\n",
              "      <td>222.422425</td>\n",
              "      <td>606.394010</td>\n",
              "      <td>0.259374</td>\n",
              "    </tr>\n",
              "    <tr>\n",
              "      <th>min</th>\n",
              "      <td>18645.000000</td>\n",
              "      <td>0.000000e+00</td>\n",
              "      <td>NaN</td>\n",
              "      <td>1.000000e+00</td>\n",
              "      <td>0.000000</td>\n",
              "      <td>0.000000</td>\n",
              "      <td>0.000000</td>\n",
              "      <td>0.000000</td>\n",
              "      <td>0.000000</td>\n",
              "      <td>0.0</td>\n",
              "      <td>0.000000</td>\n",
              "      <td>0.000000</td>\n",
              "      <td>-7750.000000</td>\n",
              "      <td>0.000000</td>\n",
              "    </tr>\n",
              "    <tr>\n",
              "      <th>25%</th>\n",
              "      <td>86549.250000</td>\n",
              "      <td>4.739000e+03</td>\n",
              "      <td>NaN</td>\n",
              "      <td>5.440000e+02</td>\n",
              "      <td>200.000000</td>\n",
              "      <td>0.000000</td>\n",
              "      <td>0.000000</td>\n",
              "      <td>0.000000</td>\n",
              "      <td>0.000000</td>\n",
              "      <td>0.0</td>\n",
              "      <td>0.000000</td>\n",
              "      <td>0.000000</td>\n",
              "      <td>0.000000</td>\n",
              "      <td>0.000000</td>\n",
              "    </tr>\n",
              "    <tr>\n",
              "      <th>50%</th>\n",
              "      <td>152597.500000</td>\n",
              "      <td>1.024400e+04</td>\n",
              "      <td>NaN</td>\n",
              "      <td>2.456000e+03</td>\n",
              "      <td>250.000000</td>\n",
              "      <td>20.000000</td>\n",
              "      <td>10.000000</td>\n",
              "      <td>10.000000</td>\n",
              "      <td>0.000000</td>\n",
              "      <td>0.0</td>\n",
              "      <td>140.000000</td>\n",
              "      <td>0.000000</td>\n",
              "      <td>25.000000</td>\n",
              "      <td>0.000000</td>\n",
              "    </tr>\n",
              "    <tr>\n",
              "      <th>75%</th>\n",
              "      <td>219888.750000</td>\n",
              "      <td>1.576000e+04</td>\n",
              "      <td>NaN</td>\n",
              "      <td>1.292725e+04</td>\n",
              "      <td>250.000000</td>\n",
              "      <td>20.000000</td>\n",
              "      <td>10.000000</td>\n",
              "      <td>25.000000</td>\n",
              "      <td>0.000000</td>\n",
              "      <td>0.0</td>\n",
              "      <td>305.000000</td>\n",
              "      <td>0.000000</td>\n",
              "      <td>305.000000</td>\n",
              "      <td>0.000000</td>\n",
              "    </tr>\n",
              "    <tr>\n",
              "      <th>max</th>\n",
              "      <td>366178.000000</td>\n",
              "      <td>1.415411e+07</td>\n",
              "      <td>NaN</td>\n",
              "      <td>5.111345e+06</td>\n",
              "      <td>10000.000000</td>\n",
              "      <td>20.000000</td>\n",
              "      <td>10.000000</td>\n",
              "      <td>1000.000000</td>\n",
              "      <td>350.000000</td>\n",
              "      <td>0.0</td>\n",
              "      <td>11030.000000</td>\n",
              "      <td>11075.000000</td>\n",
              "      <td>11030.000000</td>\n",
              "      <td>1.000000</td>\n",
              "    </tr>\n",
              "  </tbody>\n",
              "</table>\n",
              "</div>\n",
              "      <button class=\"colab-df-convert\" onclick=\"convertToInteractive('df-054a0135-9864-4b9d-9750-93bc15734a67')\"\n",
              "              title=\"Convert this dataframe to an interactive table.\"\n",
              "              style=\"display:none;\">\n",
              "        \n",
              "  <svg xmlns=\"http://www.w3.org/2000/svg\" height=\"24px\"viewBox=\"0 0 24 24\"\n",
              "       width=\"24px\">\n",
              "    <path d=\"M0 0h24v24H0V0z\" fill=\"none\"/>\n",
              "    <path d=\"M18.56 5.44l.94 2.06.94-2.06 2.06-.94-2.06-.94-.94-2.06-.94 2.06-2.06.94zm-11 1L8.5 8.5l.94-2.06 2.06-.94-2.06-.94L8.5 2.5l-.94 2.06-2.06.94zm10 10l.94 2.06.94-2.06 2.06-.94-2.06-.94-.94-2.06-.94 2.06-2.06.94z\"/><path d=\"M17.41 7.96l-1.37-1.37c-.4-.4-.92-.59-1.43-.59-.52 0-1.04.2-1.43.59L10.3 9.45l-7.72 7.72c-.78.78-.78 2.05 0 2.83L4 21.41c.39.39.9.59 1.41.59.51 0 1.02-.2 1.41-.59l7.78-7.78 2.81-2.81c.8-.78.8-2.07 0-2.86zM5.41 20L4 18.59l7.72-7.72 1.47 1.35L5.41 20z\"/>\n",
              "  </svg>\n",
              "      </button>\n",
              "      \n",
              "  <style>\n",
              "    .colab-df-container {\n",
              "      display:flex;\n",
              "      flex-wrap:wrap;\n",
              "      gap: 12px;\n",
              "    }\n",
              "\n",
              "    .colab-df-convert {\n",
              "      background-color: #E8F0FE;\n",
              "      border: none;\n",
              "      border-radius: 50%;\n",
              "      cursor: pointer;\n",
              "      display: none;\n",
              "      fill: #1967D2;\n",
              "      height: 32px;\n",
              "      padding: 0 0 0 0;\n",
              "      width: 32px;\n",
              "    }\n",
              "\n",
              "    .colab-df-convert:hover {\n",
              "      background-color: #E2EBFA;\n",
              "      box-shadow: 0px 1px 2px rgba(60, 64, 67, 0.3), 0px 1px 3px 1px rgba(60, 64, 67, 0.15);\n",
              "      fill: #174EA6;\n",
              "    }\n",
              "\n",
              "    [theme=dark] .colab-df-convert {\n",
              "      background-color: #3B4455;\n",
              "      fill: #D2E3FC;\n",
              "    }\n",
              "\n",
              "    [theme=dark] .colab-df-convert:hover {\n",
              "      background-color: #434B5C;\n",
              "      box-shadow: 0px 1px 3px 1px rgba(0, 0, 0, 0.15);\n",
              "      filter: drop-shadow(0px 1px 2px rgba(0, 0, 0, 0.3));\n",
              "      fill: #FFFFFF;\n",
              "    }\n",
              "  </style>\n",
              "\n",
              "      <script>\n",
              "        const buttonEl =\n",
              "          document.querySelector('#df-054a0135-9864-4b9d-9750-93bc15734a67 button.colab-df-convert');\n",
              "        buttonEl.style.display =\n",
              "          google.colab.kernel.accessAllowed ? 'block' : 'none';\n",
              "\n",
              "        async function convertToInteractive(key) {\n",
              "          const element = document.querySelector('#df-054a0135-9864-4b9d-9750-93bc15734a67');\n",
              "          const dataTable =\n",
              "            await google.colab.kernel.invokeFunction('convertToInteractive',\n",
              "                                                     [key], {});\n",
              "          if (!dataTable) return;\n",
              "\n",
              "          const docLinkHtml = 'Like what you see? Visit the ' +\n",
              "            '<a target=\"_blank\" href=https://colab.research.google.com/notebooks/data_table.ipynb>data table notebook</a>'\n",
              "            + ' to learn more about interactive tables.';\n",
              "          element.innerHTML = '';\n",
              "          dataTable['output_type'] = 'display_data';\n",
              "          await google.colab.output.renderOutput(dataTable, element);\n",
              "          const docLink = document.createElement('div');\n",
              "          docLink.innerHTML = docLinkHtml;\n",
              "          element.appendChild(docLink);\n",
              "        }\n",
              "      </script>\n",
              "    </div>\n",
              "  </div>\n",
              "  "
            ],
            "text/plain": [
              "           ticket_id  violation_street_number  violation_zip_code  \\\n",
              "count  250306.000000             2.503060e+05                 0.0   \n",
              "mean   152665.543099             1.064986e+04                 NaN   \n",
              "std     77189.882881             3.188733e+04                 NaN   \n",
              "min     18645.000000             0.000000e+00                 NaN   \n",
              "25%     86549.250000             4.739000e+03                 NaN   \n",
              "50%    152597.500000             1.024400e+04                 NaN   \n",
              "75%    219888.750000             1.576000e+04                 NaN   \n",
              "max    366178.000000             1.415411e+07                 NaN   \n",
              "\n",
              "       mailing_address_str_number    fine_amount      admin_fee  \\\n",
              "count                2.467040e+05  250305.000000  250306.000000   \n",
              "mean                 9.149788e+03     374.423435      12.774764   \n",
              "std                  3.602034e+04     707.195807       9.607344   \n",
              "min                  1.000000e+00       0.000000       0.000000   \n",
              "25%                  5.440000e+02     200.000000       0.000000   \n",
              "50%                  2.456000e+03     250.000000      20.000000   \n",
              "75%                  1.292725e+04     250.000000      20.000000   \n",
              "max                  5.111345e+06   10000.000000      20.000000   \n",
              "\n",
              "           state_fee       late_fee  discount_amount  clean_up_cost  \\\n",
              "count  250306.000000  250306.000000    250306.000000       250306.0   \n",
              "mean        6.387382      21.494506         0.125167            0.0   \n",
              "std         4.803672      56.464263         3.430178            0.0   \n",
              "min         0.000000       0.000000         0.000000            0.0   \n",
              "25%         0.000000       0.000000         0.000000            0.0   \n",
              "50%        10.000000      10.000000         0.000000            0.0   \n",
              "75%        10.000000      25.000000         0.000000            0.0   \n",
              "max        10.000000    1000.000000       350.000000            0.0   \n",
              "\n",
              "       judgment_amount  payment_amount    balance_due     compliance  \n",
              "count    250306.000000   250306.000000  250306.000000  159880.000000  \n",
              "mean        268.685356       48.898986     222.449058       0.072536  \n",
              "std         626.915212      222.422425     606.394010       0.259374  \n",
              "min           0.000000        0.000000   -7750.000000       0.000000  \n",
              "25%           0.000000        0.000000       0.000000       0.000000  \n",
              "50%         140.000000        0.000000      25.000000       0.000000  \n",
              "75%         305.000000        0.000000     305.000000       0.000000  \n",
              "max       11030.000000    11075.000000   11030.000000       1.000000  "
            ]
          },
          "metadata": {},
          "execution_count": 7
        }
      ]
    },
    {
      "cell_type": "code",
      "source": [
        "df_test.columns"
      ],
      "metadata": {
        "colab": {
          "base_uri": "https://localhost:8080/"
        },
        "id": "yoROP--WoazA",
        "outputId": "dd64fb80-d08e-41f3-dec6-9af4892c9c55"
      },
      "execution_count": 8,
      "outputs": [
        {
          "output_type": "execute_result",
          "data": {
            "text/plain": [
              "Index(['ticket_id', 'agency_name', 'inspector_name', 'violator_name',\n",
              "       'violation_street_number', 'violation_street_name',\n",
              "       'violation_zip_code', 'mailing_address_str_number',\n",
              "       'mailing_address_str_name', 'city', 'state', 'zip_code',\n",
              "       'non_us_str_code', 'country', 'ticket_issued_date', 'hearing_date',\n",
              "       'violation_code', 'violation_description', 'disposition', 'fine_amount',\n",
              "       'admin_fee', 'state_fee', 'late_fee', 'discount_amount',\n",
              "       'clean_up_cost', 'judgment_amount', 'grafitti_status'],\n",
              "      dtype='object')"
            ]
          },
          "metadata": {},
          "execution_count": 8
        }
      ]
    },
    {
      "cell_type": "code",
      "source": [
        "df_test['violation_code'].value_counts()"
      ],
      "metadata": {
        "colab": {
          "base_uri": "https://localhost:8080/"
        },
        "id": "1mza1AbSUFwS",
        "outputId": "e38b3b7d-6695-49cd-f64c-a0d40d020e1b"
      },
      "execution_count": 9,
      "outputs": [
        {
          "output_type": "execute_result",
          "data": {
            "text/plain": [
              "9-1-104               16259\n",
              "22-2-88(b)            15699\n",
              "9-1-36(a)              8653\n",
              "22-2-45                2844\n",
              "9-1-111                2246\n",
              "                      ...  \n",
              "61-83.0100/32.0031        1\n",
              "22-2-55                   1\n",
              "9-1-469                   1\n",
              "9-1-471                   1\n",
              "61-4-33                   1\n",
              "Name: violation_code, Length: 151, dtype: int64"
            ]
          },
          "metadata": {},
          "execution_count": 9
        }
      ]
    },
    {
      "cell_type": "code",
      "source": [
        "to_drop = []\n",
        "for i in range(len(list(df.columns))):\n",
        "  if list(df.columns)[i] not in list(df_test.columns):\n",
        "    #print(list(df.columns)[i])\n",
        "    to_drop.append(list(df.columns)[i])\n",
        "to_drop.pop()\n",
        "print(to_drop)"
      ],
      "metadata": {
        "colab": {
          "base_uri": "https://localhost:8080/"
        },
        "id": "8xbHxY1yiiyE",
        "outputId": "004f7cc0-d1c3-45dc-d940-f782c8a2a872"
      },
      "execution_count": 10,
      "outputs": [
        {
          "output_type": "stream",
          "name": "stdout",
          "text": [
            "['payment_amount', 'balance_due', 'payment_date', 'payment_status', 'collection_status', 'compliance_detail']\n"
          ]
        }
      ]
    },
    {
      "cell_type": "code",
      "source": [
        "df.isna().sum()"
      ],
      "metadata": {
        "colab": {
          "base_uri": "https://localhost:8080/"
        },
        "id": "SwlEnmFklbxA",
        "outputId": "761eb757-b593-4f1c-d849-f6724bda7836"
      },
      "execution_count": 11,
      "outputs": [
        {
          "output_type": "execute_result",
          "data": {
            "text/plain": [
              "ticket_id                          0\n",
              "agency_name                        0\n",
              "inspector_name                     0\n",
              "violator_name                     34\n",
              "violation_street_number            0\n",
              "violation_street_name              0\n",
              "violation_zip_code            250306\n",
              "mailing_address_str_number      3602\n",
              "mailing_address_str_name           4\n",
              "city                               0\n",
              "state                             93\n",
              "zip_code                           1\n",
              "non_us_str_code               250303\n",
              "country                            0\n",
              "ticket_issued_date                 0\n",
              "hearing_date                   12491\n",
              "violation_code                     0\n",
              "violation_description              0\n",
              "disposition                        0\n",
              "fine_amount                        1\n",
              "admin_fee                          0\n",
              "state_fee                          0\n",
              "late_fee                           0\n",
              "discount_amount                    0\n",
              "clean_up_cost                      0\n",
              "judgment_amount                    0\n",
              "payment_amount                     0\n",
              "balance_due                        0\n",
              "payment_date                  209193\n",
              "payment_status                     0\n",
              "collection_status             213409\n",
              "grafitti_status               250305\n",
              "compliance_detail                  0\n",
              "compliance                     90426\n",
              "dtype: int64"
            ]
          },
          "metadata": {},
          "execution_count": 11
        }
      ]
    },
    {
      "cell_type": "code",
      "source": [
        "threshold = 250306 * 50 //100 \n",
        "for i in range(len(df.isna().sum().values)):\n",
        "  if df.isna().sum().values[i] > threshold and df.isna().sum().index[i] not in to_drop:\n",
        "    to_drop.append(df.isna().sum().index[i])"
      ],
      "metadata": {
        "id": "z4b__pLJl2xo"
      },
      "execution_count": 12,
      "outputs": []
    },
    {
      "cell_type": "code",
      "source": [
        "to_drop"
      ],
      "metadata": {
        "colab": {
          "base_uri": "https://localhost:8080/"
        },
        "id": "wEzfeS_JnSyc",
        "outputId": "b3f49656-377c-4bf6-a88b-599b60aacd10"
      },
      "execution_count": 13,
      "outputs": [
        {
          "output_type": "execute_result",
          "data": {
            "text/plain": [
              "['payment_amount',\n",
              " 'balance_due',\n",
              " 'payment_date',\n",
              " 'payment_status',\n",
              " 'collection_status',\n",
              " 'compliance_detail',\n",
              " 'violation_zip_code',\n",
              " 'non_us_str_code',\n",
              " 'grafitti_status']"
            ]
          },
          "metadata": {},
          "execution_count": 13
        }
      ]
    },
    {
      "cell_type": "markdown",
      "source": [
        "## df_copy"
      ],
      "metadata": {
        "id": "43vv3kx1f1Md"
      }
    },
    {
      "cell_type": "code",
      "source": [
        "df_copy = df.copy()\n",
        "df_copy.drop(columns=to_drop, inplace=True)"
      ],
      "metadata": {
        "id": "nT9ZLMRXnnaH"
      },
      "execution_count": 28,
      "outputs": []
    },
    {
      "cell_type": "code",
      "source": [
        "df_copy.isna().sum()"
      ],
      "metadata": {
        "colab": {
          "base_uri": "https://localhost:8080/"
        },
        "id": "hXDveIYhn1J6",
        "outputId": "0c2f21af-d456-4b3a-fe25-bc72261d43d1"
      },
      "execution_count": 29,
      "outputs": [
        {
          "output_type": "execute_result",
          "data": {
            "text/plain": [
              "ticket_id                         0\n",
              "agency_name                       0\n",
              "inspector_name                    0\n",
              "violator_name                    34\n",
              "violation_street_number           0\n",
              "violation_street_name             0\n",
              "mailing_address_str_number     3602\n",
              "mailing_address_str_name          4\n",
              "city                              0\n",
              "state                            93\n",
              "zip_code                          1\n",
              "country                           0\n",
              "ticket_issued_date                0\n",
              "hearing_date                  12491\n",
              "violation_code                    0\n",
              "violation_description             0\n",
              "disposition                       0\n",
              "fine_amount                       1\n",
              "admin_fee                         0\n",
              "state_fee                         0\n",
              "late_fee                          0\n",
              "discount_amount                   0\n",
              "clean_up_cost                     0\n",
              "judgment_amount                   0\n",
              "compliance                    90426\n",
              "dtype: int64"
            ]
          },
          "metadata": {},
          "execution_count": 29
        }
      ]
    },
    {
      "cell_type": "code",
      "source": [
        "# zip_code = int\n",
        "# ticket_issued_date = date\n",
        "# hearing_date = date\n",
        "df_copy.dtypes"
      ],
      "metadata": {
        "colab": {
          "base_uri": "https://localhost:8080/"
        },
        "id": "iSHwJx4-SBHY",
        "outputId": "21e9cdf6-9078-47ff-8100-730b1992e3ad"
      },
      "execution_count": 30,
      "outputs": [
        {
          "output_type": "execute_result",
          "data": {
            "text/plain": [
              "ticket_id                       int64\n",
              "agency_name                    object\n",
              "inspector_name                 object\n",
              "violator_name                  object\n",
              "violation_street_number       float64\n",
              "violation_street_name          object\n",
              "mailing_address_str_number    float64\n",
              "mailing_address_str_name       object\n",
              "city                           object\n",
              "state                          object\n",
              "zip_code                       object\n",
              "country                        object\n",
              "ticket_issued_date             object\n",
              "hearing_date                   object\n",
              "violation_code                 object\n",
              "violation_description          object\n",
              "disposition                    object\n",
              "fine_amount                   float64\n",
              "admin_fee                     float64\n",
              "state_fee                     float64\n",
              "late_fee                      float64\n",
              "discount_amount               float64\n",
              "clean_up_cost                 float64\n",
              "judgment_amount               float64\n",
              "compliance                    float64\n",
              "dtype: object"
            ]
          },
          "metadata": {},
          "execution_count": 30
        }
      ]
    },
    {
      "cell_type": "markdown",
      "source": [
        "## zip_code"
      ],
      "metadata": {
        "id": "dxDZgs3fdMJj"
      }
    },
    {
      "cell_type": "code",
      "source": [
        "from tqdm import tqdm\n",
        "\n",
        "for j in tqdm(range(df_copy.shape[0])):\n",
        "  try:\n",
        "    int(df_copy['zip_code'][j])\n",
        "    a = str(df_copy['zip_code'][j])[:5]\n",
        "    df_copy['zip_code'][j] = int(a)\n",
        "  except:\n",
        "    df_copy['zip_code'][j] = np.nan"
      ],
      "metadata": {
        "colab": {
          "base_uri": "https://localhost:8080/"
        },
        "id": "C0MtD1TMh-ts",
        "outputId": "1d013d24-85e1-4cee-e176-7e75efb48624"
      },
      "execution_count": 56,
      "outputs": [
        {
          "output_type": "stream",
          "name": "stderr",
          "text": [
            "  0%|          | 0/250306 [00:00<?, ?it/s]/usr/local/lib/python3.7/dist-packages/ipykernel_launcher.py:7: SettingWithCopyWarning: \n",
            "A value is trying to be set on a copy of a slice from a DataFrame\n",
            "\n",
            "See the caveats in the documentation: https://pandas.pydata.org/pandas-docs/stable/user_guide/indexing.html#returning-a-view-versus-a-copy\n",
            "  import sys\n",
            " 17%|█▋        | 42353/250306 [00:46<03:31, 981.56it/s]/usr/local/lib/python3.7/dist-packages/ipykernel_launcher.py:9: SettingWithCopyWarning: \n",
            "A value is trying to be set on a copy of a slice from a DataFrame\n",
            "\n",
            "See the caveats in the documentation: https://pandas.pydata.org/pandas-docs/stable/user_guide/indexing.html#returning-a-view-versus-a-copy\n",
            "  if __name__ == '__main__':\n",
            "100%|██████████| 250306/250306 [05:00<00:00, 833.26it/s]\n"
          ]
        }
      ]
    },
    {
      "cell_type": "code",
      "source": [
        "df_copy['zip_code'].value_counts()[:20].plot(kind='barh')"
      ],
      "metadata": {
        "colab": {
          "base_uri": "https://localhost:8080/",
          "height": 282
        },
        "id": "FO0kXFsnknu4",
        "outputId": "2067d0a4-416b-4861-8d92-8a4d26a55530"
      },
      "execution_count": 69,
      "outputs": [
        {
          "output_type": "execute_result",
          "data": {
            "text/plain": [
              "<matplotlib.axes._subplots.AxesSubplot at 0x7f8ff9f5d510>"
            ]
          },
          "metadata": {},
          "execution_count": 69
        },
        {
          "output_type": "display_data",
          "data": {
            "image/png": "[encoded data removed]",
            "text/plain": [
              "<Figure size 432x288 with 1 Axes>"
            ]
          },
          "metadata": {
            "needs_background": "light"
          }
        }
      ]
    },
    {
      "cell_type": "code",
      "source": [
        "df_copy['zip_code'].isna().sum()"
      ],
      "metadata": {
        "colab": {
          "base_uri": "https://localhost:8080/"
        },
        "id": "NG9Z8MYwmal8",
        "outputId": "9e4ca4be-d420-4ba4-ac85-177c11270986"
      },
      "execution_count": 71,
      "outputs": [
        {
          "output_type": "execute_result",
          "data": {
            "text/plain": [
              "89"
            ]
          },
          "metadata": {},
          "execution_count": 71
        }
      ]
    },
    {
      "cell_type": "markdown",
      "source": [
        "## City"
      ],
      "metadata": {
        "id": "SJUhr0mzmkUG"
      }
    },
    {
      "cell_type": "code",
      "source": [
        "pd.set_option('display.max_rows', None)"
      ],
      "metadata": {
        "id": "eSGuus50nozp"
      },
      "execution_count": 81,
      "outputs": []
    },
    {
      "cell_type": "code",
      "source": [
        "for j in range(10):\n",
        "  df_copy['city_3'] = df_copy['city'].str.upper()[j][:3])"
      ],
      "metadata": {
        "colab": {
          "base_uri": "https://localhost:8080/"
        },
        "id": "_lcgokmrtFC9",
        "outputId": "e1371070-1416-496b-e40e-70f1d9934aaa"
      },
      "execution_count": 86,
      "outputs": [
        {
          "output_type": "stream",
          "name": "stdout",
          "text": [
            "CHI\n",
            "DET\n",
            "DET\n",
            "DET\n",
            "DET\n",
            "LOG\n",
            "CLI\n",
            "DET\n",
            "DET\n",
            "DET\n"
          ]
        }
      ]
    },
    {
      "cell_type": "code",
      "source": [
        "for j in tqdm(range(df_copy.shape[0])):\n",
        "  df_copy['city_3'] = df_copy['city'].str.upper()[j][:3]"
      ],
      "metadata": {
        "colab": {
          "base_uri": "https://localhost:8080/",
          "height": 345
        },
        "id": "tE4XGhXRsWkK",
        "outputId": "8e7e394e-a120-43e0-d532-563c1712aa3a"
      },
      "execution_count": 87,
      "outputs": [
        {
          "output_type": "stream",
          "name": "stderr",
          "text": [
            "  0%|          | 202/250306 [00:17<6:08:38, 11.31it/s]\n"
          ]
        },
        {
          "output_type": "error",
          "ename": "KeyboardInterrupt",
          "evalue": "ignored",
          "traceback": [
            "\u001b[0;31m---------------------------------------------------------------------------\u001b[0m",
            "\u001b[0;31mKeyboardInterrupt\u001b[0m                         Traceback (most recent call last)",
            "\u001b[0;32m<ipython-input-87-af17b93a08cc>\u001b[0m in \u001b[0;36m<module>\u001b[0;34m()\u001b[0m\n\u001b[1;32m      1\u001b[0m \u001b[0;32mfor\u001b[0m \u001b[0mj\u001b[0m \u001b[0;32min\u001b[0m \u001b[0mtqdm\u001b[0m\u001b[0;34m(\u001b[0m\u001b[0mrange\u001b[0m\u001b[0;34m(\u001b[0m\u001b[0mdf_copy\u001b[0m\u001b[0;34m.\u001b[0m\u001b[0mshape\u001b[0m\u001b[0;34m[\u001b[0m\u001b[0;36m0\u001b[0m\u001b[0;34m]\u001b[0m\u001b[0;34m)\u001b[0m\u001b[0;34m)\u001b[0m\u001b[0;34m:\u001b[0m\u001b[0;34m\u001b[0m\u001b[0;34m\u001b[0m\u001b[0m\n\u001b[0;32m----> 2\u001b[0;31m   \u001b[0mdf_copy\u001b[0m\u001b[0;34m[\u001b[0m\u001b[0;34m'city_3'\u001b[0m\u001b[0;34m]\u001b[0m \u001b[0;34m=\u001b[0m \u001b[0mdf_copy\u001b[0m\u001b[0;34m[\u001b[0m\u001b[0;34m'city'\u001b[0m\u001b[0;34m]\u001b[0m\u001b[0;34m.\u001b[0m\u001b[0mstr\u001b[0m\u001b[0;34m.\u001b[0m\u001b[0mupper\u001b[0m\u001b[0;34m(\u001b[0m\u001b[0;34m)\u001b[0m\u001b[0;34m[\u001b[0m\u001b[0mj\u001b[0m\u001b[0;34m]\u001b[0m\u001b[0;34m[\u001b[0m\u001b[0;34m:\u001b[0m\u001b[0;36m3\u001b[0m\u001b[0;34m]\u001b[0m\u001b[0;34m\u001b[0m\u001b[0;34m\u001b[0m\u001b[0m\n\u001b[0m",
            "\u001b[0;32m/usr/local/lib/python3.7/dist-packages/pandas/core/accessor.py\u001b[0m in \u001b[0;36m__get__\u001b[0;34m(self, obj, cls)\u001b[0m\n\u001b[1;32m    179\u001b[0m             \u001b[0;31m# we're accessing the attribute of the class, i.e., Dataset.geo\u001b[0m\u001b[0;34m\u001b[0m\u001b[0;34m\u001b[0m\u001b[0;34m\u001b[0m\u001b[0m\n\u001b[1;32m    180\u001b[0m             \u001b[0;32mreturn\u001b[0m \u001b[0mself\u001b[0m\u001b[0;34m.\u001b[0m\u001b[0m_accessor\u001b[0m\u001b[0;34m\u001b[0m\u001b[0;34m\u001b[0m\u001b[0m\n\u001b[0;32m--> 181\u001b[0;31m         \u001b[0maccessor_obj\u001b[0m \u001b[0;34m=\u001b[0m \u001b[0mself\u001b[0m\u001b[0;34m.\u001b[0m\u001b[0m_accessor\u001b[0m\u001b[0;34m(\u001b[0m\u001b[0mobj\u001b[0m\u001b[0;34m)\u001b[0m\u001b[0;34m\u001b[0m\u001b[0;34m\u001b[0m\u001b[0m\n\u001b[0m\u001b[1;32m    182\u001b[0m         \u001b[0;31m# Replace the property with the accessor object. Inspired by:\u001b[0m\u001b[0;34m\u001b[0m\u001b[0;34m\u001b[0m\u001b[0;34m\u001b[0m\u001b[0m\n\u001b[1;32m    183\u001b[0m         \u001b[0;31m# https://www.pydanny.com/cached-property.html\u001b[0m\u001b[0;34m\u001b[0m\u001b[0;34m\u001b[0m\u001b[0;34m\u001b[0m\u001b[0m\n",
            "\u001b[0;32m/usr/local/lib/python3.7/dist-packages/pandas/core/strings/accessor.py\u001b[0m in \u001b[0;36m__init__\u001b[0;34m(self, data)\u001b[0m\n\u001b[1;32m    166\u001b[0m         \u001b[0;32mfrom\u001b[0m \u001b[0mpandas\u001b[0m\u001b[0;34m.\u001b[0m\u001b[0mcore\u001b[0m\u001b[0;34m.\u001b[0m\u001b[0marrays\u001b[0m\u001b[0;34m.\u001b[0m\u001b[0mstring_\u001b[0m \u001b[0;32mimport\u001b[0m \u001b[0mStringDtype\u001b[0m\u001b[0;34m\u001b[0m\u001b[0;34m\u001b[0m\u001b[0m\n\u001b[1;32m    167\u001b[0m \u001b[0;34m\u001b[0m\u001b[0m\n\u001b[0;32m--> 168\u001b[0;31m         \u001b[0mself\u001b[0m\u001b[0;34m.\u001b[0m\u001b[0m_inferred_dtype\u001b[0m \u001b[0;34m=\u001b[0m \u001b[0mself\u001b[0m\u001b[0;34m.\u001b[0m\u001b[0m_validate\u001b[0m\u001b[0;34m(\u001b[0m\u001b[0mdata\u001b[0m\u001b[0;34m)\u001b[0m\u001b[0;34m\u001b[0m\u001b[0;34m\u001b[0m\u001b[0m\n\u001b[0m\u001b[1;32m    169\u001b[0m         \u001b[0mself\u001b[0m\u001b[0;34m.\u001b[0m\u001b[0m_is_categorical\u001b[0m \u001b[0;34m=\u001b[0m \u001b[0mis_categorical_dtype\u001b[0m\u001b[0;34m(\u001b[0m\u001b[0mdata\u001b[0m\u001b[0;34m.\u001b[0m\u001b[0mdtype\u001b[0m\u001b[0;34m)\u001b[0m\u001b[0;34m\u001b[0m\u001b[0;34m\u001b[0m\u001b[0m\n\u001b[1;32m    170\u001b[0m         \u001b[0mself\u001b[0m\u001b[0;34m.\u001b[0m\u001b[0m_is_string\u001b[0m \u001b[0;34m=\u001b[0m \u001b[0misinstance\u001b[0m\u001b[0;34m(\u001b[0m\u001b[0mdata\u001b[0m\u001b[0;34m.\u001b[0m\u001b[0mdtype\u001b[0m\u001b[0;34m,\u001b[0m \u001b[0mStringDtype\u001b[0m\u001b[0;34m)\u001b[0m\u001b[0;34m\u001b[0m\u001b[0;34m\u001b[0m\u001b[0m\n",
            "\u001b[0;32m/usr/local/lib/python3.7/dist-packages/pandas/core/strings/accessor.py\u001b[0m in \u001b[0;36m_validate\u001b[0;34m(data)\u001b[0m\n\u001b[1;32m    220\u001b[0m         \u001b[0mvalues\u001b[0m \u001b[0;34m=\u001b[0m \u001b[0mgetattr\u001b[0m\u001b[0;34m(\u001b[0m\u001b[0mdata\u001b[0m\u001b[0;34m,\u001b[0m \u001b[0;34m\"categories\"\u001b[0m\u001b[0;34m,\u001b[0m \u001b[0mdata\u001b[0m\u001b[0;34m)\u001b[0m  \u001b[0;31m# categorical / normal\u001b[0m\u001b[0;34m\u001b[0m\u001b[0;34m\u001b[0m\u001b[0m\n\u001b[1;32m    221\u001b[0m \u001b[0;34m\u001b[0m\u001b[0m\n\u001b[0;32m--> 222\u001b[0;31m         \u001b[0minferred_dtype\u001b[0m \u001b[0;34m=\u001b[0m \u001b[0mlib\u001b[0m\u001b[0;34m.\u001b[0m\u001b[0minfer_dtype\u001b[0m\u001b[0;34m(\u001b[0m\u001b[0mvalues\u001b[0m\u001b[0;34m,\u001b[0m \u001b[0mskipna\u001b[0m\u001b[0;34m=\u001b[0m\u001b[0;32mTrue\u001b[0m\u001b[0;34m)\u001b[0m\u001b[0;34m\u001b[0m\u001b[0;34m\u001b[0m\u001b[0m\n\u001b[0m\u001b[1;32m    223\u001b[0m \u001b[0;34m\u001b[0m\u001b[0m\n\u001b[1;32m    224\u001b[0m         \u001b[0;32mif\u001b[0m \u001b[0minferred_dtype\u001b[0m \u001b[0;32mnot\u001b[0m \u001b[0;32min\u001b[0m \u001b[0mallowed_types\u001b[0m\u001b[0;34m:\u001b[0m\u001b[0;34m\u001b[0m\u001b[0;34m\u001b[0m\u001b[0m\n",
            "\u001b[0;31mKeyboardInterrupt\u001b[0m: "
          ]
        }
      ]
    },
    {
      "cell_type": "code",
      "source": [
        "df_copy['city'].str.upper().value_counts().sort_index().shape"
      ],
      "metadata": {
        "colab": {
          "base_uri": "https://localhost:8080/"
        },
        "id": "038jIEudmqYu",
        "outputId": "4cea710c-b196-4ef6-d424-73a556ac72a5"
      },
      "execution_count": 83,
      "outputs": [
        {
          "output_type": "execute_result",
          "data": {
            "text/plain": [
              "(4324,)"
            ]
          },
          "metadata": {},
          "execution_count": 83
        }
      ]
    },
    {
      "cell_type": "code",
      "source": [
        ""
      ],
      "metadata": {
        "id": "Lx5de1hxrmZi"
      },
      "execution_count": null,
      "outputs": []
    },
    {
      "cell_type": "code",
      "source": [
        "categorical_var = df_copy.dtypes[df_copy.dtypes == 'object'].index.to_list()"
      ],
      "metadata": {
        "id": "7f8eqH5zq_1n"
      },
      "execution_count": 111,
      "outputs": []
    },
    {
      "cell_type": "code",
      "source": [
        " df_copy.dtypes[df_copy.dtypes != 'object']"
      ],
      "metadata": {
        "colab": {
          "base_uri": "https://localhost:8080/"
        },
        "id": "gGjmEVy8sp1z",
        "outputId": "9ccded8d-2b14-4b31-83a7-241104c641b9"
      },
      "execution_count": 119,
      "outputs": [
        {
          "output_type": "execute_result",
          "data": {
            "text/plain": [
              "ticket_id                       int64\n",
              "violation_street_number       float64\n",
              "mailing_address_str_number    float64\n",
              "fine_amount                   float64\n",
              "admin_fee                     float64\n",
              "state_fee                     float64\n",
              "late_fee                      float64\n",
              "discount_amount               float64\n",
              "clean_up_cost                 float64\n",
              "judgment_amount               float64\n",
              "compliance                    float64\n",
              "dtype: object"
            ]
          },
          "metadata": {},
          "execution_count": 119
        }
      ]
    },
    {
      "cell_type": "code",
      "source": [
        "numerical_var = df_copy.dtypes[df_copy.dtypes != 'object'].index.to_list()"
      ],
      "metadata": {
        "id": "DbP1io5HrhS0"
      },
      "execution_count": 114,
      "outputs": []
    },
    {
      "cell_type": "markdown",
      "source": [
        "# Catgorical Cleaning"
      ],
      "metadata": {
        "id": "FSQXwOYur4WY"
      }
    },
    {
      "cell_type": "code",
      "source": [
        "df_copy[categorical_var]"
      ],
      "metadata": {
        "colab": {
          "base_uri": "https://localhost:8080/",
          "height": 1000
        },
        "id": "gAYl-8HMruZy",
        "outputId": "1cb64e6a-ee2d-44cd-ed0d-762de36fc0d8"
      },
      "execution_count": 115,
      "outputs": [
        {
          "output_type": "execute_result",
          "data": {
            "text/html": [
              "\n",
              "  <div id=\"df-b883e059-1efe-43a7-be7b-7a77c908d3fe\">\n",
              "    <div class=\"colab-df-container\">\n",
              "      <div>\n",
              "<style scoped>\n",
              "    .dataframe tbody tr th:only-of-type {\n",
              "        vertical-align: middle;\n",
              "    }\n",
              "\n",
              "    .dataframe tbody tr th {\n",
              "        vertical-align: top;\n",
              "    }\n",
              "\n",
              "    .dataframe thead th {\n",
              "        text-align: right;\n",
              "    }\n",
              "</style>\n",
              "<table border=\"1\" class=\"dataframe\">\n",
              "  <thead>\n",
              "    <tr style=\"text-align: right;\">\n",
              "      <th></th>\n",
              "      <th>agency_name</th>\n",
              "      <th>inspector_name</th>\n",
              "      <th>violator_name</th>\n",
              "      <th>violation_street_name</th>\n",
              "      <th>mailing_address_str_name</th>\n",
              "      <th>city</th>\n",
              "      <th>state</th>\n",
              "      <th>zip_code</th>\n",
              "      <th>country</th>\n",
              "      <th>ticket_issued_date</th>\n",
              "      <th>hearing_date</th>\n",
              "      <th>violation_code</th>\n",
              "      <th>violation_description</th>\n",
              "      <th>disposition</th>\n",
              "    </tr>\n",
              "  </thead>\n",
              "  <tbody>\n",
              "    <tr>\n",
              "      <th>0</th>\n",
              "      <td>Buildings, Safety Engineering &amp; Env Department</td>\n",
              "      <td>Sims, Martinzie</td>\n",
              "      <td>INVESTMENT INC., MIDWEST MORTGAGE</td>\n",
              "      <td>TYLER</td>\n",
              "      <td>S. WICKER</td>\n",
              "      <td>CHICAGO</td>\n",
              "      <td>IL</td>\n",
              "      <td>60606</td>\n",
              "      <td>USA</td>\n",
              "      <td>2004-03-16 11:40:00</td>\n",
              "      <td>2005-03-21 10:30:00</td>\n",
              "      <td>9-1-36(a)</td>\n",
              "      <td>Failure of owner to obtain certificate of comp...</td>\n",
              "      <td>Responsible by Default</td>\n",
              "    </tr>\n",
              "    <tr>\n",
              "      <th>1</th>\n",
              "      <td>Buildings, Safety Engineering &amp; Env Department</td>\n",
              "      <td>Williams, Darrin</td>\n",
              "      <td>Michigan, Covenant House</td>\n",
              "      <td>CENTRAL</td>\n",
              "      <td>Martin Luther King</td>\n",
              "      <td>Detroit</td>\n",
              "      <td>MI</td>\n",
              "      <td>48208</td>\n",
              "      <td>USA</td>\n",
              "      <td>2004-04-23 12:30:00</td>\n",
              "      <td>2005-05-06 13:30:00</td>\n",
              "      <td>61-63.0600</td>\n",
              "      <td>Failed To Secure Permit For Lawful Use Of Buil...</td>\n",
              "      <td>Responsible by Determination</td>\n",
              "    </tr>\n",
              "    <tr>\n",
              "      <th>2</th>\n",
              "      <td>Buildings, Safety Engineering &amp; Env Department</td>\n",
              "      <td>Sims, Martinzie</td>\n",
              "      <td>SANDERS, DERRON</td>\n",
              "      <td>LONGFELLOW</td>\n",
              "      <td>P.O. BOX</td>\n",
              "      <td>DETROIT</td>\n",
              "      <td>MI</td>\n",
              "      <td>48223</td>\n",
              "      <td>USA</td>\n",
              "      <td>2004-04-26 13:40:00</td>\n",
              "      <td>2005-03-29 10:30:00</td>\n",
              "      <td>9-1-36(a)</td>\n",
              "      <td>Failure of owner to obtain certificate of comp...</td>\n",
              "      <td>Not responsible by Dismissal</td>\n",
              "    </tr>\n",
              "    <tr>\n",
              "      <th>3</th>\n",
              "      <td>Buildings, Safety Engineering &amp; Env Department</td>\n",
              "      <td>Sims, Martinzie</td>\n",
              "      <td>MOROSI, MIKE</td>\n",
              "      <td>LONGFELLOW</td>\n",
              "      <td>ST. CLAIR</td>\n",
              "      <td>DETROIT</td>\n",
              "      <td>MI</td>\n",
              "      <td>48214</td>\n",
              "      <td>USA</td>\n",
              "      <td>2004-04-26 13:30:00</td>\n",
              "      <td>NaN</td>\n",
              "      <td>9-1-36(a)</td>\n",
              "      <td>Failure of owner to obtain certificate of comp...</td>\n",
              "      <td>Not responsible by City Dismissal</td>\n",
              "    </tr>\n",
              "    <tr>\n",
              "      <th>4</th>\n",
              "      <td>Buildings, Safety Engineering &amp; Env Department</td>\n",
              "      <td>Sims, Martinzie</td>\n",
              "      <td>NATHANIEL, NEAL</td>\n",
              "      <td>CHURCHILL</td>\n",
              "      <td>CHURCHILL</td>\n",
              "      <td>DETROIT</td>\n",
              "      <td>MI</td>\n",
              "      <td>48206</td>\n",
              "      <td>USA</td>\n",
              "      <td>2004-04-26 13:00:00</td>\n",
              "      <td>2005-03-29 10:30:00</td>\n",
              "      <td>9-1-36(a)</td>\n",
              "      <td>Failure of owner to obtain certificate of comp...</td>\n",
              "      <td>Not responsible by Dismissal</td>\n",
              "    </tr>\n",
              "    <tr>\n",
              "      <th>...</th>\n",
              "      <td>...</td>\n",
              "      <td>...</td>\n",
              "      <td>...</td>\n",
              "      <td>...</td>\n",
              "      <td>...</td>\n",
              "      <td>...</td>\n",
              "      <td>...</td>\n",
              "      <td>...</td>\n",
              "      <td>...</td>\n",
              "      <td>...</td>\n",
              "      <td>...</td>\n",
              "      <td>...</td>\n",
              "      <td>...</td>\n",
              "      <td>...</td>\n",
              "    </tr>\n",
              "    <tr>\n",
              "      <th>250301</th>\n",
              "      <td>Buildings, Safety Engineering &amp; Env Department</td>\n",
              "      <td>Bush, Wesley</td>\n",
              "      <td>WESTGATE TERRACE APARTMENTS LLC</td>\n",
              "      <td>SANTA MARIA</td>\n",
              "      <td>MEYERS</td>\n",
              "      <td>DETROIT</td>\n",
              "      <td>MI</td>\n",
              "      <td>48235</td>\n",
              "      <td>USA</td>\n",
              "      <td>2010-12-02 11:00:00</td>\n",
              "      <td>2015-01-06 09:00:00</td>\n",
              "      <td>9-1-43(a) - (Structu</td>\n",
              "      <td>Fail to comply with an Emergency or imminent d...</td>\n",
              "      <td>Not responsible by City Dismissal</td>\n",
              "    </tr>\n",
              "    <tr>\n",
              "      <th>250302</th>\n",
              "      <td>Buildings, Safety Engineering &amp; Env Department</td>\n",
              "      <td>Bush, Wesley</td>\n",
              "      <td>WESTGATE TERRACE APARTMENTS LLC</td>\n",
              "      <td>MEYERS RD</td>\n",
              "      <td>MEYERS</td>\n",
              "      <td>DETROIT</td>\n",
              "      <td>MI</td>\n",
              "      <td>48235</td>\n",
              "      <td>USA</td>\n",
              "      <td>2010-12-02 11:00:00</td>\n",
              "      <td>2015-01-06 09:00:00</td>\n",
              "      <td>9-1-43(a) - (Structu</td>\n",
              "      <td>Fail to comply with an Emergency or imminent d...</td>\n",
              "      <td>Not responsible by City Dismissal</td>\n",
              "    </tr>\n",
              "    <tr>\n",
              "      <th>250303</th>\n",
              "      <td>Buildings, Safety Engineering &amp; Env Department</td>\n",
              "      <td>Bush, Wesley</td>\n",
              "      <td>WESTGATE TERRACE APARTMENTS LLC</td>\n",
              "      <td>MEYERS RD</td>\n",
              "      <td>MEYERS</td>\n",
              "      <td>DETROIT</td>\n",
              "      <td>MI</td>\n",
              "      <td>48235</td>\n",
              "      <td>USA</td>\n",
              "      <td>2010-12-02 11:00:00</td>\n",
              "      <td>2015-01-06 09:00:00</td>\n",
              "      <td>9-1-43(a) - (Structu</td>\n",
              "      <td>Fail to comply with an Emergency or imminent d...</td>\n",
              "      <td>Not responsible by City Dismissal</td>\n",
              "    </tr>\n",
              "    <tr>\n",
              "      <th>250304</th>\n",
              "      <td>Buildings, Safety Engineering &amp; Env Department</td>\n",
              "      <td>Bush, Wesley</td>\n",
              "      <td>WESTGATE TERRACE APARTMENTS LLC</td>\n",
              "      <td>MEYERS RD</td>\n",
              "      <td>MEYERS</td>\n",
              "      <td>DETROIT</td>\n",
              "      <td>MI</td>\n",
              "      <td>48235</td>\n",
              "      <td>USA</td>\n",
              "      <td>2010-12-02 11:00:00</td>\n",
              "      <td>2015-01-06 09:00:00</td>\n",
              "      <td>9-1-43(a) - (Structu</td>\n",
              "      <td>Fail to comply with an Emergency or imminent d...</td>\n",
              "      <td>Not responsible by City Dismissal</td>\n",
              "    </tr>\n",
              "    <tr>\n",
              "      <th>250305</th>\n",
              "      <td>Buildings, Safety Engineering &amp; Env Department</td>\n",
              "      <td>Bush, Wesley</td>\n",
              "      <td>WESTGATE TERRACE APARTMENTS LLC</td>\n",
              "      <td>MEYERS RD</td>\n",
              "      <td>MEYERS</td>\n",
              "      <td>DETROIT</td>\n",
              "      <td>MI</td>\n",
              "      <td>48235</td>\n",
              "      <td>USA</td>\n",
              "      <td>2010-12-02 11:00:00</td>\n",
              "      <td>2015-01-06 09:00:00</td>\n",
              "      <td>9-1-43(a) - (Structu</td>\n",
              "      <td>Fail to comply with an Emergency or imminent d...</td>\n",
              "      <td>Not responsible by City Dismissal</td>\n",
              "    </tr>\n",
              "  </tbody>\n",
              "</table>\n",
              "<p>250306 rows × 14 columns</p>\n",
              "</div>\n",
              "      <button class=\"colab-df-convert\" onclick=\"convertToInteractive('df-b883e059-1efe-43a7-be7b-7a77c908d3fe')\"\n",
              "              title=\"Convert this dataframe to an interactive table.\"\n",
              "              style=\"display:none;\">\n",
              "        \n",
              "  <svg xmlns=\"http://www.w3.org/2000/svg\" height=\"24px\"viewBox=\"0 0 24 24\"\n",
              "       width=\"24px\">\n",
              "    <path d=\"M0 0h24v24H0V0z\" fill=\"none\"/>\n",
              "    <path d=\"M18.56 5.44l.94 2.06.94-2.06 2.06-.94-2.06-.94-.94-2.06-.94 2.06-2.06.94zm-11 1L8.5 8.5l.94-2.06 2.06-.94-2.06-.94L8.5 2.5l-.94 2.06-2.06.94zm10 10l.94 2.06.94-2.06 2.06-.94-2.06-.94-.94-2.06-.94 2.06-2.06.94z\"/><path d=\"M17.41 7.96l-1.37-1.37c-.4-.4-.92-.59-1.43-.59-.52 0-1.04.2-1.43.59L10.3 9.45l-7.72 7.72c-.78.78-.78 2.05 0 2.83L4 21.41c.39.39.9.59 1.41.59.51 0 1.02-.2 1.41-.59l7.78-7.78 2.81-2.81c.8-.78.8-2.07 0-2.86zM5.41 20L4 18.59l7.72-7.72 1.47 1.35L5.41 20z\"/>\n",
              "  </svg>\n",
              "      </button>\n",
              "      \n",
              "  <style>\n",
              "    .colab-df-container {\n",
              "      display:flex;\n",
              "      flex-wrap:wrap;\n",
              "      gap: 12px;\n",
              "    }\n",
              "\n",
              "    .colab-df-convert {\n",
              "      background-color: #E8F0FE;\n",
              "      border: none;\n",
              "      border-radius: 50%;\n",
              "      cursor: pointer;\n",
              "      display: none;\n",
              "      fill: #1967D2;\n",
              "      height: 32px;\n",
              "      padding: 0 0 0 0;\n",
              "      width: 32px;\n",
              "    }\n",
              "\n",
              "    .colab-df-convert:hover {\n",
              "      background-color: #E2EBFA;\n",
              "      box-shadow: 0px 1px 2px rgba(60, 64, 67, 0.3), 0px 1px 3px 1px rgba(60, 64, 67, 0.15);\n",
              "      fill: #174EA6;\n",
              "    }\n",
              "\n",
              "    [theme=dark] .colab-df-convert {\n",
              "      background-color: #3B4455;\n",
              "      fill: #D2E3FC;\n",
              "    }\n",
              "\n",
              "    [theme=dark] .colab-df-convert:hover {\n",
              "      background-color: #434B5C;\n",
              "      box-shadow: 0px 1px 3px 1px rgba(0, 0, 0, 0.15);\n",
              "      filter: drop-shadow(0px 1px 2px rgba(0, 0, 0, 0.3));\n",
              "      fill: #FFFFFF;\n",
              "    }\n",
              "  </style>\n",
              "\n",
              "      <script>\n",
              "        const buttonEl =\n",
              "          document.querySelector('#df-b883e059-1efe-43a7-be7b-7a77c908d3fe button.colab-df-convert');\n",
              "        buttonEl.style.display =\n",
              "          google.colab.kernel.accessAllowed ? 'block' : 'none';\n",
              "\n",
              "        async function convertToInteractive(key) {\n",
              "          const element = document.querySelector('#df-b883e059-1efe-43a7-be7b-7a77c908d3fe');\n",
              "          const dataTable =\n",
              "            await google.colab.kernel.invokeFunction('convertToInteractive',\n",
              "                                                     [key], {});\n",
              "          if (!dataTable) return;\n",
              "\n",
              "          const docLinkHtml = 'Like what you see? Visit the ' +\n",
              "            '<a target=\"_blank\" href=https://colab.research.google.com/notebooks/data_table.ipynb>data table notebook</a>'\n",
              "            + ' to learn more about interactive tables.';\n",
              "          element.innerHTML = '';\n",
              "          dataTable['output_type'] = 'display_data';\n",
              "          await google.colab.output.renderOutput(dataTable, element);\n",
              "          const docLink = document.createElement('div');\n",
              "          docLink.innerHTML = docLinkHtml;\n",
              "          element.appendChild(docLink);\n",
              "        }\n",
              "      </script>\n",
              "    </div>\n",
              "  </div>\n",
              "  "
            ],
            "text/plain": [
              "                                           agency_name    inspector_name  \\\n",
              "0       Buildings, Safety Engineering & Env Department   Sims, Martinzie   \n",
              "1       Buildings, Safety Engineering & Env Department  Williams, Darrin   \n",
              "2       Buildings, Safety Engineering & Env Department   Sims, Martinzie   \n",
              "3       Buildings, Safety Engineering & Env Department   Sims, Martinzie   \n",
              "4       Buildings, Safety Engineering & Env Department   Sims, Martinzie   \n",
              "...                                                ...               ...   \n",
              "250301  Buildings, Safety Engineering & Env Department      Bush, Wesley   \n",
              "250302  Buildings, Safety Engineering & Env Department      Bush, Wesley   \n",
              "250303  Buildings, Safety Engineering & Env Department      Bush, Wesley   \n",
              "250304  Buildings, Safety Engineering & Env Department      Bush, Wesley   \n",
              "250305  Buildings, Safety Engineering & Env Department      Bush, Wesley   \n",
              "\n",
              "                            violator_name violation_street_name  \\\n",
              "0       INVESTMENT INC., MIDWEST MORTGAGE                 TYLER   \n",
              "1                Michigan, Covenant House               CENTRAL   \n",
              "2                         SANDERS, DERRON            LONGFELLOW   \n",
              "3                            MOROSI, MIKE            LONGFELLOW   \n",
              "4                         NATHANIEL, NEAL             CHURCHILL   \n",
              "...                                   ...                   ...   \n",
              "250301    WESTGATE TERRACE APARTMENTS LLC           SANTA MARIA   \n",
              "250302    WESTGATE TERRACE APARTMENTS LLC             MEYERS RD   \n",
              "250303    WESTGATE TERRACE APARTMENTS LLC             MEYERS RD   \n",
              "250304    WESTGATE TERRACE APARTMENTS LLC             MEYERS RD   \n",
              "250305    WESTGATE TERRACE APARTMENTS LLC             MEYERS RD   \n",
              "\n",
              "       mailing_address_str_name     city state zip_code country  \\\n",
              "0                     S. WICKER  CHICAGO    IL    60606     USA   \n",
              "1            Martin Luther King  Detroit    MI    48208     USA   \n",
              "2                      P.O. BOX  DETROIT    MI    48223     USA   \n",
              "3                     ST. CLAIR  DETROIT    MI    48214     USA   \n",
              "4                     CHURCHILL  DETROIT    MI    48206     USA   \n",
              "...                         ...      ...   ...      ...     ...   \n",
              "250301                   MEYERS  DETROIT    MI    48235     USA   \n",
              "250302                   MEYERS  DETROIT    MI    48235     USA   \n",
              "250303                   MEYERS  DETROIT    MI    48235     USA   \n",
              "250304                   MEYERS  DETROIT    MI    48235     USA   \n",
              "250305                   MEYERS  DETROIT    MI    48235     USA   \n",
              "\n",
              "         ticket_issued_date         hearing_date        violation_code  \\\n",
              "0       2004-03-16 11:40:00  2005-03-21 10:30:00             9-1-36(a)   \n",
              "1       2004-04-23 12:30:00  2005-05-06 13:30:00            61-63.0600   \n",
              "2       2004-04-26 13:40:00  2005-03-29 10:30:00             9-1-36(a)   \n",
              "3       2004-04-26 13:30:00                  NaN             9-1-36(a)   \n",
              "4       2004-04-26 13:00:00  2005-03-29 10:30:00             9-1-36(a)   \n",
              "...                     ...                  ...                   ...   \n",
              "250301  2010-12-02 11:00:00  2015-01-06 09:00:00  9-1-43(a) - (Structu   \n",
              "250302  2010-12-02 11:00:00  2015-01-06 09:00:00  9-1-43(a) - (Structu   \n",
              "250303  2010-12-02 11:00:00  2015-01-06 09:00:00  9-1-43(a) - (Structu   \n",
              "250304  2010-12-02 11:00:00  2015-01-06 09:00:00  9-1-43(a) - (Structu   \n",
              "250305  2010-12-02 11:00:00  2015-01-06 09:00:00  9-1-43(a) - (Structu   \n",
              "\n",
              "                                    violation_description  \\\n",
              "0       Failure of owner to obtain certificate of comp...   \n",
              "1       Failed To Secure Permit For Lawful Use Of Buil...   \n",
              "2       Failure of owner to obtain certificate of comp...   \n",
              "3       Failure of owner to obtain certificate of comp...   \n",
              "4       Failure of owner to obtain certificate of comp...   \n",
              "...                                                   ...   \n",
              "250301  Fail to comply with an Emergency or imminent d...   \n",
              "250302  Fail to comply with an Emergency or imminent d...   \n",
              "250303  Fail to comply with an Emergency or imminent d...   \n",
              "250304  Fail to comply with an Emergency or imminent d...   \n",
              "250305  Fail to comply with an Emergency or imminent d...   \n",
              "\n",
              "                              disposition  \n",
              "0                  Responsible by Default  \n",
              "1            Responsible by Determination  \n",
              "2            Not responsible by Dismissal  \n",
              "3       Not responsible by City Dismissal  \n",
              "4            Not responsible by Dismissal  \n",
              "...                                   ...  \n",
              "250301  Not responsible by City Dismissal  \n",
              "250302  Not responsible by City Dismissal  \n",
              "250303  Not responsible by City Dismissal  \n",
              "250304  Not responsible by City Dismissal  \n",
              "250305  Not responsible by City Dismissal  \n",
              "\n",
              "[250306 rows x 14 columns]"
            ]
          },
          "metadata": {},
          "execution_count": 115
        }
      ]
    },
    {
      "cell_type": "code",
      "execution_count": null,
      "metadata": {
        "collapsed": true,
        "id": "5hLtgWd-I9nQ"
      },
      "outputs": [],
      "source": [
        "import pandas as pd\n",
        "import numpy as np\n",
        "\n",
        "def blight_model():\n",
        "    \n",
        "    # Your code here\n",
        "    \n",
        "    return # Your answer here"
      ]
    },
    {
      "cell_type": "code",
      "execution_count": null,
      "metadata": {
        "collapsed": true,
        "id": "itUCo3YSI9nS"
      },
      "outputs": [],
      "source": [
        "blight_model()"
      ]
    }
  ],
  "metadata": {
    "coursera": {
      "course_slug": "python-machine-learning",
      "graded_item_id": "nNS8l",
      "launcher_item_id": "yWWk7",
      "part_id": "w8BSS"
    },
    "kernelspec": {
      "display_name": "Python 3",
      "language": "python",
      "name": "python3"
    },
    "language_info": {
      "codemirror_mode": {
        "name": "ipython",
        "version": 3
      },
      "file_extension": ".py",
      "mimetype": "text/x-python",
      "name": "python",
      "nbconvert_exporter": "python",
      "pygments_lexer": "ipython3",
      "version": "3.6.2"
    },
    "colab": {
      "name": "Assignment 4.ipynb",
      "provenance": []
    }
  },
  "nbformat": 4,
  "nbformat_minor": 0
}