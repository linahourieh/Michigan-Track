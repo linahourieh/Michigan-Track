{
  "cells": [
    {
      "cell_type": "markdown",
      "metadata": {
        "id": "gu3rWat9I9nE"
      },
      "source": [
        "---\n",
        "\n",
        "_You are currently looking at **version 1.1** of this notebook. To download notebooks and datafiles, as well as get help on Jupyter notebooks in the Coursera platform, visit the [Jupyter Notebook FAQ](https://www.coursera.org/learn/python-machine-learning/resources/bANLa) course resource._\n",
        "\n",
        "---"
      ]
    },
    {
      "cell_type": "markdown",
      "metadata": {
        "id": "bc7DRYsaI9nJ"
      },
      "source": [
        "## Assignment 4 - Understanding and Predicting Property Maintenance Fines\n",
        "\n",
        "This assignment is based on a data challenge from the Michigan Data Science Team ([MDST](http://midas.umich.edu/mdst/)). \n",
        "\n",
        "The Michigan Data Science Team ([MDST](http://midas.umich.edu/mdst/)) and the Michigan Student Symposium for Interdisciplinary Statistical Sciences ([MSSISS](https://sites.lsa.umich.edu/mssiss/)) have partnered with the City of Detroit to help solve one of the most pressing problems facing Detroit - blight. [Blight violations](http://www.detroitmi.gov/How-Do-I/Report/Blight-Complaint-FAQs) are issued by the city to individuals who allow their properties to remain in a deteriorated condition. Every year, the city of Detroit issues millions of dollars in fines to residents and every year, many of these fines remain unpaid. Enforcing unpaid blight fines is a costly and tedious process, so the city wants to know: how can we increase blight ticket compliance?\n",
        "\n",
        "The first step in answering this question is understanding when and why a resident might fail to comply with a blight ticket. This is where predictive modeling comes in. For this assignment, your task is to predict whether a given blight ticket will be paid on time.\n",
        "\n",
        "All data for this assignment has been provided to us through the [Detroit Open Data Portal](https://data.detroitmi.gov/). **Only the data already included in your Coursera directory can be used for training the model for this assignment.** Nonetheless, we encourage you to look into data from other Detroit datasets to help inform feature creation and model selection. We recommend taking a look at the following related datasets:\n",
        "\n",
        "* [Building Permits](https://data.detroitmi.gov/Property-Parcels/Building-Permits/xw2a-a7tf)\n",
        "* [Trades Permits](https://data.detroitmi.gov/Property-Parcels/Trades-Permits/635b-dsgv)\n",
        "* [Improve Detroit: Submitted Issues](https://data.detroitmi.gov/Government/Improve-Detroit-Submitted-Issues/fwz3-w3yn)\n",
        "* [DPD: Citizen Complaints](https://data.detroitmi.gov/Public-Safety/DPD-Citizen-Complaints-2016/kahe-efs3)\n",
        "* [Parcel Map](https://data.detroitmi.gov/Property-Parcels/Parcel-Map/fxkw-udwf)\n",
        "\n",
        "___\n",
        "\n",
        "We provide you with two data files for use in training and validating your models: train.csv and test.csv. Each row in these two files corresponds to a single blight ticket, and includes information about when, why, and to whom each ticket was issued. The target variable is compliance, which is True if the ticket was paid early, on time, or within one month of the hearing data, False if the ticket was paid after the hearing date or not at all, and Null if the violator was found not responsible. Compliance, as well as a handful of other variables that will not be available at test-time, are only included in train.csv.\n",
        "\n",
        "Note: All tickets where the violators were found not responsible are not considered during evaluation. They are included in the training set as an additional source of data for visualization, and to enable unsupervised and semi-supervised approaches. However, they are not included in the test set.\n",
        "\n",
        "<br>\n",
        "\n",
        "**File descriptions** (Use only this data for training your model!)\n",
        "\n",
        "    readonly/train.csv - the training set (all tickets issued 2004-2011)\n",
        "    readonly/test.csv - the test set (all tickets issued 2012-2016)\n",
        "    readonly/addresses.csv & readonly/latlons.csv - mapping from ticket id to addresses, and from addresses to lat/lon coordinates. \n",
        "     Note: misspelled addresses may be incorrectly geolocated.\n",
        "\n",
        "<br>\n",
        "\n",
        "**Data fields**\n",
        "\n",
        "train.csv & test.csv\n",
        "\n",
        "    ticket_id - unique identifier for tickets\n",
        "    agency_name - Agency that issued the ticket\n",
        "    inspector_name - Name of inspector that issued the ticket\n",
        "    violator_name - Name of the person/organization that the ticket was issued to\n",
        "    violation_street_number, violation_street_name, violation_zip_code - Address where the violation occurred\n",
        "    mailing_address_str_number, mailing_address_str_name, city, state, zip_code, non_us_str_code, country - Mailing address of the violator\n",
        "    ticket_issued_date - Date and time the ticket was issued\n",
        "    hearing_date - Date and time the violator's hearing was scheduled\n",
        "    violation_code, violation_description - Type of violation\n",
        "    disposition - Judgment and judgement type\n",
        "    fine_amount - Violation fine amount, excluding fees\n",
        "    admin_fee - $20 fee assigned to responsible judgments\n",
        "state_fee - $10 fee assigned to responsible judgments\n",
        "    late_fee - 10% fee assigned to responsible judgments\n",
        "    discount_amount - discount applied, if any\n",
        "    clean_up_cost - DPW clean-up or graffiti removal cost\n",
        "    judgment_amount - Sum of all fines and fees\n",
        "    grafitti_status - Flag for graffiti violations\n",
        "    \n",
        "train.csv only\n",
        "\n",
        "    payment_amount - Amount paid, if any\n",
        "    payment_date - Date payment was made, if it was received\n",
        "    payment_status - Current payment status as of Feb 1 2017\n",
        "    balance_due - Fines and fees still owed\n",
        "    collection_status - Flag for payments in collections\n",
        "    compliance [target variable for prediction] \n",
        "     Null = Not responsible\n",
        "     0 = Responsible, non-compliant\n",
        "     1 = Responsible, compliant\n",
        "    compliance_detail - More information on why each ticket was marked compliant or non-compliant\n",
        "\n",
        "\n",
        "___\n",
        "\n",
        "## Evaluation\n",
        "\n",
        "Your predictions will be given as the probability that the corresponding blight ticket will be paid on time.\n",
        "\n",
        "The evaluation metric for this assignment is the Area Under the ROC Curve (AUC). \n",
        "\n",
        "Your grade will be based on the AUC score computed for your classifier. A model which with an AUROC of 0.7 passes this assignment, over 0.75 will recieve full points.\n",
        "___\n",
        "\n",
        "For this assignment, create a function that trains a model to predict blight ticket compliance in Detroit using `readonly/train.csv`. Using this model, return a series of length 61001 with the data being the probability that each corresponding ticket from `readonly/test.csv` will be paid, and the index being the ticket_id.\n",
        "\n",
        "Example:\n",
        "\n",
        "    ticket_id\n",
        "       284932    0.531842\n",
        "       285362    0.401958\n",
        "       285361    0.105928\n",
        "       285338    0.018572\n",
        "                 ...\n",
        "       376499    0.208567\n",
        "       376500    0.818759\n",
        "       369851    0.018528\n",
        "       Name: compliance, dtype: float32\n",
        "       \n",
        "### Hints\n",
        "\n",
        "* Make sure your code is working before submitting it to the autograder.\n",
        "\n",
        "* Print out your result to see whether there is anything weird (e.g., all probabilities are the same).\n",
        "\n",
        "* Generally the total runtime should be less than 10 mins. You should NOT use Neural Network related classifiers (e.g., MLPClassifier) in this question. \n",
        "\n",
        "* Try to avoid global variables. If you have other functions besides blight_model, you should move those functions inside the scope of blight_model.\n",
        "\n",
        "* Refer to the pinned threads in Week 4's discussion forum when there is something you could not figure it out."
      ]
    },
    {
      "cell_type": "code",
      "source": [
        "import pandas as pd\n",
        "import numpy as np\n",
        "\n",
        "df = pd.read_csv('https://raw.githubusercontent.com/linahourieh/Michigan-Track/main/train.csv',encoding='cp1252')"
      ],
      "metadata": {
        "id": "GA46L7ggNDD6",
        "outputId": "9063aa53-f2ce-4465-f241-b49a6e9d69e5",
        "colab": {
          "base_uri": "https://localhost:8080/"
        }
      },
      "execution_count": 31,
      "outputs": [
        {
          "output_type": "stream",
          "name": "stderr",
          "text": [
            "/usr/local/lib/python3.7/dist-packages/IPython/core/interactiveshell.py:2882: DtypeWarning: Columns (11,12,31) have mixed types.Specify dtype option on import or set low_memory=False.\n",
            "  exec(code_obj, self.user_global_ns, self.user_ns)\n"
          ]
        }
      ]
    },
    {
      "cell_type": "code",
      "source": [
        "df.head(3)"
      ],
      "metadata": {
        "id": "X5uaabvLQjMw",
        "outputId": "7671305e-cb56-441a-8074-397928e0b4c2",
        "colab": {
          "base_uri": "https://localhost:8080/",
          "height": 445
        }
      },
      "execution_count": 32,
      "outputs": [
        {
          "output_type": "execute_result",
          "data": {
            "text/html": [
              "\n",
              "  <div id=\"df-09f3fa0f-1668-4905-bee6-5a1b7d807712\">\n",
              "    <div class=\"colab-df-container\">\n",
              "      <div>\n",
              "<style scoped>\n",
              "    .dataframe tbody tr th:only-of-type {\n",
              "        vertical-align: middle;\n",
              "    }\n",
              "\n",
              "    .dataframe tbody tr th {\n",
              "        vertical-align: top;\n",
              "    }\n",
              "\n",
              "    .dataframe thead th {\n",
              "        text-align: right;\n",
              "    }\n",
              "</style>\n",
              "<table border=\"1\" class=\"dataframe\">\n",
              "  <thead>\n",
              "    <tr style=\"text-align: right;\">\n",
              "      <th></th>\n",
              "      <th>ticket_id</th>\n",
              "      <th>agency_name</th>\n",
              "      <th>inspector_name</th>\n",
              "      <th>violator_name</th>\n",
              "      <th>violation_street_number</th>\n",
              "      <th>violation_street_name</th>\n",
              "      <th>violation_zip_code</th>\n",
              "      <th>mailing_address_str_number</th>\n",
              "      <th>mailing_address_str_name</th>\n",
              "      <th>city</th>\n",
              "      <th>...</th>\n",
              "      <th>clean_up_cost</th>\n",
              "      <th>judgment_amount</th>\n",
              "      <th>payment_amount</th>\n",
              "      <th>balance_due</th>\n",
              "      <th>payment_date</th>\n",
              "      <th>payment_status</th>\n",
              "      <th>collection_status</th>\n",
              "      <th>grafitti_status</th>\n",
              "      <th>compliance_detail</th>\n",
              "      <th>compliance</th>\n",
              "    </tr>\n",
              "  </thead>\n",
              "  <tbody>\n",
              "    <tr>\n",
              "      <th>0</th>\n",
              "      <td>22056</td>\n",
              "      <td>Buildings, Safety Engineering &amp; Env Department</td>\n",
              "      <td>Sims, Martinzie</td>\n",
              "      <td>INVESTMENT INC., MIDWEST MORTGAGE</td>\n",
              "      <td>2900.0</td>\n",
              "      <td>TYLER</td>\n",
              "      <td>NaN</td>\n",
              "      <td>3.0</td>\n",
              "      <td>S. WICKER</td>\n",
              "      <td>CHICAGO</td>\n",
              "      <td>...</td>\n",
              "      <td>0.0</td>\n",
              "      <td>305.0</td>\n",
              "      <td>0.0</td>\n",
              "      <td>305.0</td>\n",
              "      <td>NaN</td>\n",
              "      <td>NO PAYMENT APPLIED</td>\n",
              "      <td>NaN</td>\n",
              "      <td>NaN</td>\n",
              "      <td>non-compliant by no payment</td>\n",
              "      <td>0.0</td>\n",
              "    </tr>\n",
              "    <tr>\n",
              "      <th>1</th>\n",
              "      <td>27586</td>\n",
              "      <td>Buildings, Safety Engineering &amp; Env Department</td>\n",
              "      <td>Williams, Darrin</td>\n",
              "      <td>Michigan, Covenant House</td>\n",
              "      <td>4311.0</td>\n",
              "      <td>CENTRAL</td>\n",
              "      <td>NaN</td>\n",
              "      <td>2959.0</td>\n",
              "      <td>Martin Luther King</td>\n",
              "      <td>Detroit</td>\n",
              "      <td>...</td>\n",
              "      <td>0.0</td>\n",
              "      <td>855.0</td>\n",
              "      <td>780.0</td>\n",
              "      <td>75.0</td>\n",
              "      <td>2005-06-02 00:00:00</td>\n",
              "      <td>PAID IN FULL</td>\n",
              "      <td>NaN</td>\n",
              "      <td>NaN</td>\n",
              "      <td>compliant by late payment within 1 month</td>\n",
              "      <td>1.0</td>\n",
              "    </tr>\n",
              "    <tr>\n",
              "      <th>2</th>\n",
              "      <td>22062</td>\n",
              "      <td>Buildings, Safety Engineering &amp; Env Department</td>\n",
              "      <td>Sims, Martinzie</td>\n",
              "      <td>SANDERS, DERRON</td>\n",
              "      <td>1449.0</td>\n",
              "      <td>LONGFELLOW</td>\n",
              "      <td>NaN</td>\n",
              "      <td>23658.0</td>\n",
              "      <td>P.O. BOX</td>\n",
              "      <td>DETROIT</td>\n",
              "      <td>...</td>\n",
              "      <td>0.0</td>\n",
              "      <td>0.0</td>\n",
              "      <td>0.0</td>\n",
              "      <td>0.0</td>\n",
              "      <td>NaN</td>\n",
              "      <td>NO PAYMENT APPLIED</td>\n",
              "      <td>NaN</td>\n",
              "      <td>NaN</td>\n",
              "      <td>not responsible by disposition</td>\n",
              "      <td>NaN</td>\n",
              "    </tr>\n",
              "  </tbody>\n",
              "</table>\n",
              "<p>3 rows × 34 columns</p>\n",
              "</div>\n",
              "      <button class=\"colab-df-convert\" onclick=\"convertToInteractive('df-09f3fa0f-1668-4905-bee6-5a1b7d807712')\"\n",
              "              title=\"Convert this dataframe to an interactive table.\"\n",
              "              style=\"display:none;\">\n",
              "        \n",
              "  <svg xmlns=\"http://www.w3.org/2000/svg\" height=\"24px\"viewBox=\"0 0 24 24\"\n",
              "       width=\"24px\">\n",
              "    <path d=\"M0 0h24v24H0V0z\" fill=\"none\"/>\n",
              "    <path d=\"M18.56 5.44l.94 2.06.94-2.06 2.06-.94-2.06-.94-.94-2.06-.94 2.06-2.06.94zm-11 1L8.5 8.5l.94-2.06 2.06-.94-2.06-.94L8.5 2.5l-.94 2.06-2.06.94zm10 10l.94 2.06.94-2.06 2.06-.94-2.06-.94-.94-2.06-.94 2.06-2.06.94z\"/><path d=\"M17.41 7.96l-1.37-1.37c-.4-.4-.92-.59-1.43-.59-.52 0-1.04.2-1.43.59L10.3 9.45l-7.72 7.72c-.78.78-.78 2.05 0 2.83L4 21.41c.39.39.9.59 1.41.59.51 0 1.02-.2 1.41-.59l7.78-7.78 2.81-2.81c.8-.78.8-2.07 0-2.86zM5.41 20L4 18.59l7.72-7.72 1.47 1.35L5.41 20z\"/>\n",
              "  </svg>\n",
              "      </button>\n",
              "      \n",
              "  <style>\n",
              "    .colab-df-container {\n",
              "      display:flex;\n",
              "      flex-wrap:wrap;\n",
              "      gap: 12px;\n",
              "    }\n",
              "\n",
              "    .colab-df-convert {\n",
              "      background-color: #E8F0FE;\n",
              "      border: none;\n",
              "      border-radius: 50%;\n",
              "      cursor: pointer;\n",
              "      display: none;\n",
              "      fill: #1967D2;\n",
              "      height: 32px;\n",
              "      padding: 0 0 0 0;\n",
              "      width: 32px;\n",
              "    }\n",
              "\n",
              "    .colab-df-convert:hover {\n",
              "      background-color: #E2EBFA;\n",
              "      box-shadow: 0px 1px 2px rgba(60, 64, 67, 0.3), 0px 1px 3px 1px rgba(60, 64, 67, 0.15);\n",
              "      fill: #174EA6;\n",
              "    }\n",
              "\n",
              "    [theme=dark] .colab-df-convert {\n",
              "      background-color: #3B4455;\n",
              "      fill: #D2E3FC;\n",
              "    }\n",
              "\n",
              "    [theme=dark] .colab-df-convert:hover {\n",
              "      background-color: #434B5C;\n",
              "      box-shadow: 0px 1px 3px 1px rgba(0, 0, 0, 0.15);\n",
              "      filter: drop-shadow(0px 1px 2px rgba(0, 0, 0, 0.3));\n",
              "      fill: #FFFFFF;\n",
              "    }\n",
              "  </style>\n",
              "\n",
              "      <script>\n",
              "        const buttonEl =\n",
              "          document.querySelector('#df-09f3fa0f-1668-4905-bee6-5a1b7d807712 button.colab-df-convert');\n",
              "        buttonEl.style.display =\n",
              "          google.colab.kernel.accessAllowed ? 'block' : 'none';\n",
              "\n",
              "        async function convertToInteractive(key) {\n",
              "          const element = document.querySelector('#df-09f3fa0f-1668-4905-bee6-5a1b7d807712');\n",
              "          const dataTable =\n",
              "            await google.colab.kernel.invokeFunction('convertToInteractive',\n",
              "                                                     [key], {});\n",
              "          if (!dataTable) return;\n",
              "\n",
              "          const docLinkHtml = 'Like what you see? Visit the ' +\n",
              "            '<a target=\"_blank\" href=https://colab.research.google.com/notebooks/data_table.ipynb>data table notebook</a>'\n",
              "            + ' to learn more about interactive tables.';\n",
              "          element.innerHTML = '';\n",
              "          dataTable['output_type'] = 'display_data';\n",
              "          await google.colab.output.renderOutput(dataTable, element);\n",
              "          const docLink = document.createElement('div');\n",
              "          docLink.innerHTML = docLinkHtml;\n",
              "          element.appendChild(docLink);\n",
              "        }\n",
              "      </script>\n",
              "    </div>\n",
              "  </div>\n",
              "  "
            ],
            "text/plain": [
              "   ticket_id                                     agency_name  \\\n",
              "0      22056  Buildings, Safety Engineering & Env Department   \n",
              "1      27586  Buildings, Safety Engineering & Env Department   \n",
              "2      22062  Buildings, Safety Engineering & Env Department   \n",
              "\n",
              "     inspector_name                      violator_name  \\\n",
              "0   Sims, Martinzie  INVESTMENT INC., MIDWEST MORTGAGE   \n",
              "1  Williams, Darrin           Michigan, Covenant House   \n",
              "2   Sims, Martinzie                    SANDERS, DERRON   \n",
              "\n",
              "   violation_street_number violation_street_name  violation_zip_code  \\\n",
              "0                   2900.0                 TYLER                 NaN   \n",
              "1                   4311.0               CENTRAL                 NaN   \n",
              "2                   1449.0            LONGFELLOW                 NaN   \n",
              "\n",
              "   mailing_address_str_number mailing_address_str_name     city  ...  \\\n",
              "0                         3.0                S. WICKER  CHICAGO  ...   \n",
              "1                      2959.0       Martin Luther King  Detroit  ...   \n",
              "2                     23658.0                 P.O. BOX  DETROIT  ...   \n",
              "\n",
              "  clean_up_cost judgment_amount payment_amount balance_due  \\\n",
              "0           0.0           305.0            0.0       305.0   \n",
              "1           0.0           855.0          780.0        75.0   \n",
              "2           0.0             0.0            0.0         0.0   \n",
              "\n",
              "          payment_date      payment_status collection_status grafitti_status  \\\n",
              "0                  NaN  NO PAYMENT APPLIED               NaN             NaN   \n",
              "1  2005-06-02 00:00:00        PAID IN FULL               NaN             NaN   \n",
              "2                  NaN  NO PAYMENT APPLIED               NaN             NaN   \n",
              "\n",
              "                          compliance_detail  compliance  \n",
              "0               non-compliant by no payment         0.0  \n",
              "1  compliant by late payment within 1 month         1.0  \n",
              "2            not responsible by disposition         NaN  \n",
              "\n",
              "[3 rows x 34 columns]"
            ]
          },
          "metadata": {},
          "execution_count": 32
        }
      ]
    },
    {
      "cell_type": "code",
      "source": [
        "df.shape"
      ],
      "metadata": {
        "id": "uMkh5Y6ig-Z2",
        "outputId": "bb12020d-70f5-4a5d-a753-1f02b4081c71",
        "colab": {
          "base_uri": "https://localhost:8080/"
        }
      },
      "execution_count": 54,
      "outputs": [
        {
          "output_type": "execute_result",
          "data": {
            "text/plain": [
              "(250306, 34)"
            ]
          },
          "metadata": {},
          "execution_count": 54
        }
      ]
    },
    {
      "cell_type": "code",
      "source": [
        "df.info()"
      ],
      "metadata": {
        "id": "4v58xkXfRgRT",
        "outputId": "37e7ed4a-7f5f-4b31-ead0-6f5c9eeb9ca7",
        "colab": {
          "base_uri": "https://localhost:8080/"
        }
      },
      "execution_count": 33,
      "outputs": [
        {
          "output_type": "stream",
          "name": "stdout",
          "text": [
            "<class 'pandas.core.frame.DataFrame'>\n",
            "RangeIndex: 250306 entries, 0 to 250305\n",
            "Data columns (total 34 columns):\n",
            " #   Column                      Non-Null Count   Dtype  \n",
            "---  ------                      --------------   -----  \n",
            " 0   ticket_id                   250306 non-null  int64  \n",
            " 1   agency_name                 250306 non-null  object \n",
            " 2   inspector_name              250306 non-null  object \n",
            " 3   violator_name               250272 non-null  object \n",
            " 4   violation_street_number     250306 non-null  float64\n",
            " 5   violation_street_name       250306 non-null  object \n",
            " 6   violation_zip_code          0 non-null       float64\n",
            " 7   mailing_address_str_number  246704 non-null  float64\n",
            " 8   mailing_address_str_name    250302 non-null  object \n",
            " 9   city                        250306 non-null  object \n",
            " 10  state                       250213 non-null  object \n",
            " 11  zip_code                    250305 non-null  object \n",
            " 12  non_us_str_code             3 non-null       object \n",
            " 13  country                     250306 non-null  object \n",
            " 14  ticket_issued_date          250306 non-null  object \n",
            " 15  hearing_date                237815 non-null  object \n",
            " 16  violation_code              250306 non-null  object \n",
            " 17  violation_description       250306 non-null  object \n",
            " 18  disposition                 250306 non-null  object \n",
            " 19  fine_amount                 250305 non-null  float64\n",
            " 20  admin_fee                   250306 non-null  float64\n",
            " 21  state_fee                   250306 non-null  float64\n",
            " 22  late_fee                    250306 non-null  float64\n",
            " 23  discount_amount             250306 non-null  float64\n",
            " 24  clean_up_cost               250306 non-null  float64\n",
            " 25  judgment_amount             250306 non-null  float64\n",
            " 26  payment_amount              250306 non-null  float64\n",
            " 27  balance_due                 250306 non-null  float64\n",
            " 28  payment_date                41113 non-null   object \n",
            " 29  payment_status              250306 non-null  object \n",
            " 30  collection_status           36897 non-null   object \n",
            " 31  grafitti_status             1 non-null       object \n",
            " 32  compliance_detail           250306 non-null  object \n",
            " 33  compliance                  159880 non-null  float64\n",
            "dtypes: float64(13), int64(1), object(20)\n",
            "memory usage: 64.9+ MB\n"
          ]
        }
      ]
    },
    {
      "cell_type": "code",
      "source": [
        "df['compliance'].value_counts(dropna=False)"
      ],
      "metadata": {
        "id": "xe6FedtIUMvj",
        "outputId": "28fd5657-e06d-4103-c2a1-1fa558bb999b",
        "colab": {
          "base_uri": "https://localhost:8080/"
        }
      },
      "execution_count": 51,
      "outputs": [
        {
          "output_type": "execute_result",
          "data": {
            "text/plain": [
              "0.0    148283\n",
              "NaN     90426\n",
              "1.0     11597\n",
              "Name: compliance, dtype: int64"
            ]
          },
          "metadata": {},
          "execution_count": 51
        }
      ]
    },
    {
      "cell_type": "code",
      "source": [
        "df_test = pd.read_csv('https://raw.githubusercontent.com/linahourieh/Michigan-Track/main/datasets/test.csv')"
      ],
      "metadata": {
        "id": "i1vhDbs6iJ_b"
      },
      "execution_count": 38,
      "outputs": []
    },
    {
      "cell_type": "code",
      "source": [
        "to_drop = []\n",
        "for i in range(len(list(df.columns))):\n",
        "  if list(df.columns)[i] not in list(df_test.columns):\n",
        "    #print(list(df.columns)[i])\n",
        "    to_drop.append(list(df.columns)[i])\n",
        "to_drop.pop()\n",
        "print(to_drop)"
      ],
      "metadata": {
        "id": "8xbHxY1yiiyE",
        "outputId": "de4e64dc-0ee1-4264-d3df-8bfbd4e07ecd",
        "colab": {
          "base_uri": "https://localhost:8080/"
        }
      },
      "execution_count": 61,
      "outputs": [
        {
          "output_type": "stream",
          "name": "stdout",
          "text": [
            "['payment_amount', 'balance_due', 'payment_date', 'payment_status', 'collection_status', 'compliance_detail']\n"
          ]
        }
      ]
    },
    {
      "cell_type": "code",
      "source": [
        "df.isna().sum()"
      ],
      "metadata": {
        "id": "SwlEnmFklbxA",
        "outputId": "07a9a9de-f4ed-45ae-9c3e-47ec9867e1f2",
        "colab": {
          "base_uri": "https://localhost:8080/"
        }
      },
      "execution_count": 86,
      "outputs": [
        {
          "output_type": "execute_result",
          "data": {
            "text/plain": [
              "ticket_id                          0\n",
              "agency_name                        0\n",
              "inspector_name                     0\n",
              "violator_name                     34\n",
              "violation_street_number            0\n",
              "violation_street_name              0\n",
              "violation_zip_code            250306\n",
              "mailing_address_str_number      3602\n",
              "mailing_address_str_name           4\n",
              "city                               0\n",
              "state                             93\n",
              "zip_code                           1\n",
              "non_us_str_code               250303\n",
              "country                            0\n",
              "ticket_issued_date                 0\n",
              "hearing_date                   12491\n",
              "violation_code                     0\n",
              "violation_description              0\n",
              "disposition                        0\n",
              "fine_amount                        1\n",
              "admin_fee                          0\n",
              "state_fee                          0\n",
              "late_fee                           0\n",
              "discount_amount                    0\n",
              "clean_up_cost                      0\n",
              "judgment_amount                    0\n",
              "payment_amount                     0\n",
              "balance_due                        0\n",
              "payment_date                  209193\n",
              "payment_status                     0\n",
              "collection_status             213409\n",
              "grafitti_status               250305\n",
              "compliance_detail                  0\n",
              "compliance                     90426\n",
              "dtype: int64"
            ]
          },
          "metadata": {},
          "execution_count": 86
        }
      ]
    },
    {
      "cell_type": "code",
      "source": [
        "threshold = 250306 * 50 //100 \n",
        "for i in range(len(df.isna().sum().values)):\n",
        "  if df.isna().sum().values[i] > threshold and df.isna().sum().index[i] not in to_drop:\n",
        "    to_drop.append(df.isna().sum().index[i])"
      ],
      "metadata": {
        "id": "z4b__pLJl2xo"
      },
      "execution_count": 84,
      "outputs": []
    },
    {
      "cell_type": "code",
      "source": [
        "to_drop"
      ],
      "metadata": {
        "id": "wEzfeS_JnSyc",
        "outputId": "5fa2832b-a8c4-4b8c-8115-984d7b1f2150",
        "colab": {
          "base_uri": "https://localhost:8080/"
        }
      },
      "execution_count": 85,
      "outputs": [
        {
          "output_type": "execute_result",
          "data": {
            "text/plain": [
              "['payment_amount',\n",
              " 'balance_due',\n",
              " 'payment_date',\n",
              " 'payment_status',\n",
              " 'collection_status',\n",
              " 'compliance_detail',\n",
              " 'violation_zip_code',\n",
              " 'non_us_str_code',\n",
              " 'grafitti_status']"
            ]
          },
          "metadata": {},
          "execution_count": 85
        }
      ]
    },
    {
      "cell_type": "code",
      "source": [
        "df_copy = df.copy()\n",
        "df_copy.drop(columns=to_drop, inplace=True)"
      ],
      "metadata": {
        "id": "nT9ZLMRXnnaH"
      },
      "execution_count": 87,
      "outputs": []
    },
    {
      "cell_type": "code",
      "source": [
        "df_copy.isna().sum()"
      ],
      "metadata": {
        "id": "hXDveIYhn1J6",
        "outputId": "ff90b46b-5c31-48e7-9dc5-ebd8aa5076ba",
        "colab": {
          "base_uri": "https://localhost:8080/"
        }
      },
      "execution_count": 88,
      "outputs": [
        {
          "output_type": "execute_result",
          "data": {
            "text/plain": [
              "ticket_id                         0\n",
              "agency_name                       0\n",
              "inspector_name                    0\n",
              "violator_name                    34\n",
              "violation_street_number           0\n",
              "violation_street_name             0\n",
              "mailing_address_str_number     3602\n",
              "mailing_address_str_name          4\n",
              "city                              0\n",
              "state                            93\n",
              "zip_code                          1\n",
              "country                           0\n",
              "ticket_issued_date                0\n",
              "hearing_date                  12491\n",
              "violation_code                    0\n",
              "violation_description             0\n",
              "disposition                       0\n",
              "fine_amount                       1\n",
              "admin_fee                         0\n",
              "state_fee                         0\n",
              "late_fee                          0\n",
              "discount_amount                   0\n",
              "clean_up_cost                     0\n",
              "judgment_amount                   0\n",
              "compliance                    90426\n",
              "dtype: int64"
            ]
          },
          "metadata": {},
          "execution_count": 88
        }
      ]
    },
    {
      "cell_type": "code",
      "execution_count": null,
      "metadata": {
        "collapsed": true,
        "id": "5hLtgWd-I9nQ"
      },
      "outputs": [],
      "source": [
        "import pandas as pd\n",
        "import numpy as np\n",
        "\n",
        "def blight_model():\n",
        "    \n",
        "    # Your code here\n",
        "    \n",
        "    return # Your answer here"
      ]
    },
    {
      "cell_type": "code",
      "execution_count": null,
      "metadata": {
        "collapsed": true,
        "id": "itUCo3YSI9nS"
      },
      "outputs": [],
      "source": [
        "blight_model()"
      ]
    }
  ],
  "metadata": {
    "coursera": {
      "course_slug": "python-machine-learning",
      "graded_item_id": "nNS8l",
      "launcher_item_id": "yWWk7",
      "part_id": "w8BSS"
    },
    "kernelspec": {
      "display_name": "Python 3",
      "language": "python",
      "name": "python3"
    },
    "language_info": {
      "codemirror_mode": {
        "name": "ipython",
        "version": 3
      },
      "file_extension": ".py",
      "mimetype": "text/x-python",
      "name": "python",
      "nbconvert_exporter": "python",
      "pygments_lexer": "ipython3",
      "version": "3.6.2"
    },
    "colab": {
      "name": "Assignment 4.ipynb",
      "provenance": []
    }
  },
  "nbformat": 4,
  "nbformat_minor": 0
}